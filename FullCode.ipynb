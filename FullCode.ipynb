{
 "cells": [
  {
   "cell_type": "code",
   "execution_count": null,
   "metadata": {
    "colab": {
     "base_uri": "https://localhost:8080/"
    },
    "executionInfo": {
     "elapsed": 458,
     "status": "ok",
     "timestamp": 1701768347961,
     "user": {
      "displayName": "Sunshine",
      "userId": "17265841788323403260"
     },
     "user_tz": -330
    },
    "id": "ZsslgCLFdTyb",
    "outputId": "45d63b7e-e379-4253-d8c8-701e344cd360"
   },
   "outputs": [
    {
     "name": "stderr",
     "output_type": "stream",
     "text": [
      "/usr/local/lib/python3.10/dist-packages/ipykernel/ipkernel.py:283: DeprecationWarning: `should_run_async` will not call `transform_cell` automatically in the future. Please pass the result to `transformed_cell` argument and any exception that happen during thetransform in `preprocessing_exc_tuple` in IPython 7.17 and above.\n",
      "  and should_run_async(code)\n",
      "[nltk_data] Downloading package stopwords to /root/nltk_data...\n",
      "[nltk_data]   Package stopwords is already up-to-date!\n",
      "[nltk_data] Downloading package punkt to /root/nltk_data...\n",
      "[nltk_data]   Package punkt is already up-to-date!\n"
     ]
    },
    {
     "data": {
      "text/plain": [
       "True"
      ]
     },
     "execution_count": 36,
     "metadata": {},
     "output_type": "execute_result"
    }
   ],
   "source": [
    "import pandas as pd\n",
    "import nltk\n",
    "from nltk.corpus import stopwords\n",
    "from nltk.tokenize import word_tokenize\n",
    "from nltk.stem import PorterStemmer\n",
    "\n",
    "nltk.download('stopwords')\n",
    "nltk.download('punkt')"
   ]
  },
  {
   "cell_type": "code",
   "execution_count": null,
   "metadata": {
    "colab": {
     "base_uri": "https://localhost:8080/"
    },
    "executionInfo": {
     "elapsed": 431,
     "status": "ok",
     "timestamp": 1701768348777,
     "user": {
      "displayName": "Sunshine",
      "userId": "17265841788323403260"
     },
     "user_tz": -330
    },
    "id": "2YnVThrmfrOt",
    "outputId": "0461ba98-3391-4e4e-c287-2223fab06908"
   },
   "outputs": [
    {
     "name": "stderr",
     "output_type": "stream",
     "text": [
      "/usr/local/lib/python3.10/dist-packages/ipykernel/ipkernel.py:283: DeprecationWarning: `should_run_async` will not call `transform_cell` automatically in the future. Please pass the result to `transformed_cell` argument and any exception that happen during thetransform in `preprocessing_exc_tuple` in IPython 7.17 and above.\n",
      "  and should_run_async(code)\n"
     ]
    }
   ],
   "source": [
    "df = pd.read_csv('pubmed_results.csv')"
   ]
  },
  {
   "cell_type": "code",
   "execution_count": null,
   "metadata": {
    "colab": {
     "base_uri": "https://localhost:8080/",
     "height": 261
    },
    "executionInfo": {
     "elapsed": 14,
     "status": "ok",
     "timestamp": 1701768348778,
     "user": {
      "displayName": "Sunshine",
      "userId": "17265841788323403260"
     },
     "user_tz": -330
    },
    "id": "cbb2fg4zfw_H",
    "outputId": "d9f5a76d-17df-4238-8b09-7b196645660a"
   },
   "outputs": [
    {
     "name": "stderr",
     "output_type": "stream",
     "text": [
      "/usr/local/lib/python3.10/dist-packages/ipykernel/ipkernel.py:283: DeprecationWarning: `should_run_async` will not call `transform_cell` automatically in the future. Please pass the result to `transformed_cell` argument and any exception that happen during thetransform in `preprocessing_exc_tuple` in IPython 7.17 and above.\n",
      "  and should_run_async(code)\n"
     ]
    },
    {
     "data": {
      "text/html": [
       "\n",
       "  <div id=\"df-fd1f22b3-397a-471c-95d9-aa025842c3b1\" class=\"colab-df-container\">\n",
       "    <div>\n",
       "<style scoped>\n",
       "    .dataframe tbody tr th:only-of-type {\n",
       "        vertical-align: middle;\n",
       "    }\n",
       "\n",
       "    .dataframe tbody tr th {\n",
       "        vertical-align: top;\n",
       "    }\n",
       "\n",
       "    .dataframe thead th {\n",
       "        text-align: right;\n",
       "    }\n",
       "</style>\n",
       "<table border=\"1\" class=\"dataframe\">\n",
       "  <thead>\n",
       "    <tr style=\"text-align: right;\">\n",
       "      <th></th>\n",
       "      <th>Article ID</th>\n",
       "      <th>Details</th>\n",
       "    </tr>\n",
       "  </thead>\n",
       "  <tbody>\n",
       "    <tr>\n",
       "      <th>0</th>\n",
       "      <td>38008732</td>\n",
       "      <td>\\nPMID- 38008732\\nOWN - NLM\\nSTAT- In-Process\\...</td>\n",
       "    </tr>\n",
       "    <tr>\n",
       "      <th>1</th>\n",
       "      <td>38008606</td>\n",
       "      <td>\\nPMID- 38008606\\nOWN - NLM\\nSTAT- Publisher\\n...</td>\n",
       "    </tr>\n",
       "    <tr>\n",
       "      <th>2</th>\n",
       "      <td>38008436</td>\n",
       "      <td>\\nPMID- 38008436\\nOWN - NLM\\nSTAT- Publisher\\n...</td>\n",
       "    </tr>\n",
       "    <tr>\n",
       "      <th>3</th>\n",
       "      <td>38008367</td>\n",
       "      <td>\\nPMID- 38008367\\nOWN - NLM\\nSTAT- Publisher\\n...</td>\n",
       "    </tr>\n",
       "    <tr>\n",
       "      <th>4</th>\n",
       "      <td>38008349</td>\n",
       "      <td>\\nPMID- 38008349\\nOWN - NLM\\nSTAT- Publisher\\n...</td>\n",
       "    </tr>\n",
       "  </tbody>\n",
       "</table>\n",
       "</div>\n",
       "    <div class=\"colab-df-buttons\">\n",
       "\n",
       "  <div class=\"colab-df-container\">\n",
       "    <button class=\"colab-df-convert\" onclick=\"convertToInteractive('df-fd1f22b3-397a-471c-95d9-aa025842c3b1')\"\n",
       "            title=\"Convert this dataframe to an interactive table.\"\n",
       "            style=\"display:none;\">\n",
       "\n",
       "  <svg xmlns=\"http://www.w3.org/2000/svg\" height=\"24px\" viewBox=\"0 -960 960 960\">\n",
       "    <path d=\"M120-120v-720h720v720H120Zm60-500h600v-160H180v160Zm220 220h160v-160H400v160Zm0 220h160v-160H400v160ZM180-400h160v-160H180v160Zm440 0h160v-160H620v160ZM180-180h160v-160H180v160Zm440 0h160v-160H620v160Z\"/>\n",
       "  </svg>\n",
       "    </button>\n",
       "\n",
       "  <style>\n",
       "    .colab-df-container {\n",
       "      display:flex;\n",
       "      gap: 12px;\n",
       "    }\n",
       "\n",
       "    .colab-df-convert {\n",
       "      background-color: #E8F0FE;\n",
       "      border: none;\n",
       "      border-radius: 50%;\n",
       "      cursor: pointer;\n",
       "      display: none;\n",
       "      fill: #1967D2;\n",
       "      height: 32px;\n",
       "      padding: 0 0 0 0;\n",
       "      width: 32px;\n",
       "    }\n",
       "\n",
       "    .colab-df-convert:hover {\n",
       "      background-color: #E2EBFA;\n",
       "      box-shadow: 0px 1px 2px rgba(60, 64, 67, 0.3), 0px 1px 3px 1px rgba(60, 64, 67, 0.15);\n",
       "      fill: #174EA6;\n",
       "    }\n",
       "\n",
       "    .colab-df-buttons div {\n",
       "      margin-bottom: 4px;\n",
       "    }\n",
       "\n",
       "    [theme=dark] .colab-df-convert {\n",
       "      background-color: #3B4455;\n",
       "      fill: #D2E3FC;\n",
       "    }\n",
       "\n",
       "    [theme=dark] .colab-df-convert:hover {\n",
       "      background-color: #434B5C;\n",
       "      box-shadow: 0px 1px 3px 1px rgba(0, 0, 0, 0.15);\n",
       "      filter: drop-shadow(0px 1px 2px rgba(0, 0, 0, 0.3));\n",
       "      fill: #FFFFFF;\n",
       "    }\n",
       "  </style>\n",
       "\n",
       "    <script>\n",
       "      const buttonEl =\n",
       "        document.querySelector('#df-fd1f22b3-397a-471c-95d9-aa025842c3b1 button.colab-df-convert');\n",
       "      buttonEl.style.display =\n",
       "        google.colab.kernel.accessAllowed ? 'block' : 'none';\n",
       "\n",
       "      async function convertToInteractive(key) {\n",
       "        const element = document.querySelector('#df-fd1f22b3-397a-471c-95d9-aa025842c3b1');\n",
       "        const dataTable =\n",
       "          await google.colab.kernel.invokeFunction('convertToInteractive',\n",
       "                                                    [key], {});\n",
       "        if (!dataTable) return;\n",
       "\n",
       "        const docLinkHtml = 'Like what you see? Visit the ' +\n",
       "          '<a target=\"_blank\" href=https://colab.research.google.com/notebooks/data_table.ipynb>data table notebook</a>'\n",
       "          + ' to learn more about interactive tables.';\n",
       "        element.innerHTML = '';\n",
       "        dataTable['output_type'] = 'display_data';\n",
       "        await google.colab.output.renderOutput(dataTable, element);\n",
       "        const docLink = document.createElement('div');\n",
       "        docLink.innerHTML = docLinkHtml;\n",
       "        element.appendChild(docLink);\n",
       "      }\n",
       "    </script>\n",
       "  </div>\n",
       "\n",
       "\n",
       "<div id=\"df-316118ff-3059-416e-95ff-07b9520180b5\">\n",
       "  <button class=\"colab-df-quickchart\" onclick=\"quickchart('df-316118ff-3059-416e-95ff-07b9520180b5')\"\n",
       "            title=\"Suggest charts\"\n",
       "            style=\"display:none;\">\n",
       "\n",
       "<svg xmlns=\"http://www.w3.org/2000/svg\" height=\"24px\"viewBox=\"0 0 24 24\"\n",
       "     width=\"24px\">\n",
       "    <g>\n",
       "        <path d=\"M19 3H5c-1.1 0-2 .9-2 2v14c0 1.1.9 2 2 2h14c1.1 0 2-.9 2-2V5c0-1.1-.9-2-2-2zM9 17H7v-7h2v7zm4 0h-2V7h2v10zm4 0h-2v-4h2v4z\"/>\n",
       "    </g>\n",
       "</svg>\n",
       "  </button>\n",
       "\n",
       "<style>\n",
       "  .colab-df-quickchart {\n",
       "      --bg-color: #E8F0FE;\n",
       "      --fill-color: #1967D2;\n",
       "      --hover-bg-color: #E2EBFA;\n",
       "      --hover-fill-color: #174EA6;\n",
       "      --disabled-fill-color: #AAA;\n",
       "      --disabled-bg-color: #DDD;\n",
       "  }\n",
       "\n",
       "  [theme=dark] .colab-df-quickchart {\n",
       "      --bg-color: #3B4455;\n",
       "      --fill-color: #D2E3FC;\n",
       "      --hover-bg-color: #434B5C;\n",
       "      --hover-fill-color: #FFFFFF;\n",
       "      --disabled-bg-color: #3B4455;\n",
       "      --disabled-fill-color: #666;\n",
       "  }\n",
       "\n",
       "  .colab-df-quickchart {\n",
       "    background-color: var(--bg-color);\n",
       "    border: none;\n",
       "    border-radius: 50%;\n",
       "    cursor: pointer;\n",
       "    display: none;\n",
       "    fill: var(--fill-color);\n",
       "    height: 32px;\n",
       "    padding: 0;\n",
       "    width: 32px;\n",
       "  }\n",
       "\n",
       "  .colab-df-quickchart:hover {\n",
       "    background-color: var(--hover-bg-color);\n",
       "    box-shadow: 0 1px 2px rgba(60, 64, 67, 0.3), 0 1px 3px 1px rgba(60, 64, 67, 0.15);\n",
       "    fill: var(--button-hover-fill-color);\n",
       "  }\n",
       "\n",
       "  .colab-df-quickchart-complete:disabled,\n",
       "  .colab-df-quickchart-complete:disabled:hover {\n",
       "    background-color: var(--disabled-bg-color);\n",
       "    fill: var(--disabled-fill-color);\n",
       "    box-shadow: none;\n",
       "  }\n",
       "\n",
       "  .colab-df-spinner {\n",
       "    border: 2px solid var(--fill-color);\n",
       "    border-color: transparent;\n",
       "    border-bottom-color: var(--fill-color);\n",
       "    animation:\n",
       "      spin 1s steps(1) infinite;\n",
       "  }\n",
       "\n",
       "  @keyframes spin {\n",
       "    0% {\n",
       "      border-color: transparent;\n",
       "      border-bottom-color: var(--fill-color);\n",
       "      border-left-color: var(--fill-color);\n",
       "    }\n",
       "    20% {\n",
       "      border-color: transparent;\n",
       "      border-left-color: var(--fill-color);\n",
       "      border-top-color: var(--fill-color);\n",
       "    }\n",
       "    30% {\n",
       "      border-color: transparent;\n",
       "      border-left-color: var(--fill-color);\n",
       "      border-top-color: var(--fill-color);\n",
       "      border-right-color: var(--fill-color);\n",
       "    }\n",
       "    40% {\n",
       "      border-color: transparent;\n",
       "      border-right-color: var(--fill-color);\n",
       "      border-top-color: var(--fill-color);\n",
       "    }\n",
       "    60% {\n",
       "      border-color: transparent;\n",
       "      border-right-color: var(--fill-color);\n",
       "    }\n",
       "    80% {\n",
       "      border-color: transparent;\n",
       "      border-right-color: var(--fill-color);\n",
       "      border-bottom-color: var(--fill-color);\n",
       "    }\n",
       "    90% {\n",
       "      border-color: transparent;\n",
       "      border-bottom-color: var(--fill-color);\n",
       "    }\n",
       "  }\n",
       "</style>\n",
       "\n",
       "  <script>\n",
       "    async function quickchart(key) {\n",
       "      const quickchartButtonEl =\n",
       "        document.querySelector('#' + key + ' button');\n",
       "      quickchartButtonEl.disabled = true;  // To prevent multiple clicks.\n",
       "      quickchartButtonEl.classList.add('colab-df-spinner');\n",
       "      try {\n",
       "        const charts = await google.colab.kernel.invokeFunction(\n",
       "            'suggestCharts', [key], {});\n",
       "      } catch (error) {\n",
       "        console.error('Error during call to suggestCharts:', error);\n",
       "      }\n",
       "      quickchartButtonEl.classList.remove('colab-df-spinner');\n",
       "      quickchartButtonEl.classList.add('colab-df-quickchart-complete');\n",
       "    }\n",
       "    (() => {\n",
       "      let quickchartButtonEl =\n",
       "        document.querySelector('#df-316118ff-3059-416e-95ff-07b9520180b5 button');\n",
       "      quickchartButtonEl.style.display =\n",
       "        google.colab.kernel.accessAllowed ? 'block' : 'none';\n",
       "    })();\n",
       "  </script>\n",
       "</div>\n",
       "    </div>\n",
       "  </div>\n"
      ],
      "text/plain": [
       "   Article ID                                            Details\n",
       "0    38008732  \\nPMID- 38008732\\nOWN - NLM\\nSTAT- In-Process\\...\n",
       "1    38008606  \\nPMID- 38008606\\nOWN - NLM\\nSTAT- Publisher\\n...\n",
       "2    38008436  \\nPMID- 38008436\\nOWN - NLM\\nSTAT- Publisher\\n...\n",
       "3    38008367  \\nPMID- 38008367\\nOWN - NLM\\nSTAT- Publisher\\n...\n",
       "4    38008349  \\nPMID- 38008349\\nOWN - NLM\\nSTAT- Publisher\\n..."
      ]
     },
     "execution_count": 38,
     "metadata": {},
     "output_type": "execute_result"
    }
   ],
   "source": [
    "df.head()"
   ]
  },
  {
   "cell_type": "code",
   "execution_count": null,
   "metadata": {
    "colab": {
     "base_uri": "https://localhost:8080/"
    },
    "executionInfo": {
     "elapsed": 12,
     "status": "ok",
     "timestamp": 1701768348778,
     "user": {
      "displayName": "Sunshine",
      "userId": "17265841788323403260"
     },
     "user_tz": -330
    },
    "id": "hjsTLBNXfyT2",
    "outputId": "a19201ab-9f3a-49a6-c5da-e091eda5e5f1"
   },
   "outputs": [
    {
     "name": "stderr",
     "output_type": "stream",
     "text": [
      "/usr/local/lib/python3.10/dist-packages/ipykernel/ipkernel.py:283: DeprecationWarning: `should_run_async` will not call `transform_cell` automatically in the future. Please pass the result to `transformed_cell` argument and any exception that happen during thetransform in `preprocessing_exc_tuple` in IPython 7.17 and above.\n",
      "  and should_run_async(code)\n"
     ]
    },
    {
     "data": {
      "text/plain": [
       "(9999, 2)"
      ]
     },
     "execution_count": 39,
     "metadata": {},
     "output_type": "execute_result"
    }
   ],
   "source": [
    "df.shape"
   ]
  },
  {
   "cell_type": "code",
   "execution_count": null,
   "metadata": {
    "colab": {
     "base_uri": "https://localhost:8080/"
    },
    "executionInfo": {
     "elapsed": 100392,
     "status": "ok",
     "timestamp": 1701768449160,
     "user": {
      "displayName": "Sunshine",
      "userId": "17265841788323403260"
     },
     "user_tz": -330
    },
    "id": "QtYdiBpQlKOa",
    "outputId": "ef145742-f3d0-4484-c671-7a4dc3665bdf"
   },
   "outputs": [
    {
     "name": "stderr",
     "output_type": "stream",
     "text": [
      "/usr/local/lib/python3.10/dist-packages/ipykernel/ipkernel.py:283: DeprecationWarning: `should_run_async` will not call `transform_cell` automatically in the future. Please pass the result to `transformed_cell` argument and any exception that happen during thetransform in `preprocessing_exc_tuple` in IPython 7.17 and above.\n",
      "  and should_run_async(code)\n",
      "[nltk_data] Downloading package stopwords to /root/nltk_data...\n",
      "[nltk_data]   Package stopwords is already up-to-date!\n",
      "[nltk_data] Downloading package punkt to /root/nltk_data...\n",
      "[nltk_data]   Package punkt is already up-to-date!\n"
     ]
    },
    {
     "name": "stdout",
     "output_type": "stream",
     "text": [
      "Preprocessed and enhanced data saved to final_healthcare_dataset1.csv\n"
     ]
    }
   ],
   "source": [
    "import pandas as pd\n",
    "import nltk\n",
    "from nltk.corpus import stopwords\n",
    "from nltk.tokenize import word_tokenize\n",
    "from nltk.stem import PorterStemmer\n",
    "import re\n",
    "\n",
    "nltk.download('stopwords')\n",
    "nltk.download('punkt')\n",
    "\n",
    "def preprocess_text(text):\n",
    "    if isinstance(text, str):\n",
    "        # Tokenization\n",
    "        tokens = word_tokenize(text)\n",
    "\n",
    "        # Lowercasing\n",
    "        tokens = [token.lower() for token in tokens]\n",
    "\n",
    "        # Removing punctuation and special characters\n",
    "        tokens = [token for token in tokens if token.isalnum()]\n",
    "\n",
    "        # Removing stop words\n",
    "        stop_words = set(stopwords.words('english'))\n",
    "        tokens = [token for token in tokens if token not in stop_words]\n",
    "\n",
    "        # Stemming\n",
    "        stemmer = PorterStemmer()\n",
    "        tokens = [stemmer.stem(token) for token in tokens]\n",
    "\n",
    "        # Join the tokens back into a single string\n",
    "        preprocessed_text = ' '.join(tokens)\n",
    "\n",
    "        return preprocessed_text\n",
    "    else:\n",
    "        return \"\"\n",
    "\n",
    "def extract_title_abstract(details):\n",
    "    lines = str(details).split('\\n')\n",
    "    title = \"\"\n",
    "    abstract = \"\"\n",
    "    abstract_started = False\n",
    "    for line in lines:\n",
    "        if line.startswith(\"TI  - \"):  # Assuming TI - denotes the title\n",
    "          title = line[6:]\n",
    "        elif line.startswith(\"AB  - \"):  # Assuming AB - denotes the abstract\n",
    "          abstract_started = True\n",
    "          abstract += line[6:] + ' '\n",
    "        elif abstract_started and line.startswith(\"CI  - \"):  # Assuming CI - denotes the end of abstract\n",
    "          break\n",
    "        elif abstract_started:\n",
    "          abstract += line + ' '\n",
    "\n",
    "    return title, abstract.strip()\n",
    "\n",
    "\"\"\"\n",
    "def extract_title_abstract(details):\n",
    "    # Extracting Title and Abstract\n",
    "    lines = str(details).split('\\n')\n",
    "    title = \"\"\n",
    "    abstract = \"\"\n",
    "\n",
    "    for line in lines:\n",
    "        if line.startswith(\"TI  - \"):  # Assuming TI - denotes the title\n",
    "            title = line[6:]\n",
    "        elif line.startswith(\"AB  - \"):  # Assuming AB - denotes the abstract\n",
    "            abstract = line[6:]\n",
    "\n",
    "    return title, abstract\n",
    "\"\"\"\n",
    "def extract_date(details):\n",
    "    # Check if details is a string\n",
    "    date_match = re.search(r'DP\\s*-\\s*(\\d{4}\\s[a-zA-Z]{3}\\s\\d{1,2})', str(details))\n",
    "    if date_match:\n",
    "      date_str = date_match.group(1)\n",
    "      return pd.to_datetime(date_str, format='%Y %b %d', errors='coerce').strftime('%Y-%m-%d')\n",
    "\n",
    "    return None\n",
    "\n",
    "def add_healthcare_columns(df):\n",
    "    df['contains_drug'] = df['Details'].apply(lambda x: 'drug' in str(x).lower())\n",
    "    df['contains_disease'] = df['Details'].apply(lambda x: 'disease' in str(x).lower())\n",
    "    df['contains_treatment'] = df['Details'].apply(lambda x: 'treatment' in str(x).lower())\n",
    "    df['contains_symptom'] = df['Details'].apply(lambda x: 'symptom' in str(x).lower())\n",
    "    df['contains_prevention'] = df['Details'].apply(lambda x: 'prevention' in str(x).lower())\n",
    "    df['publication_year'] = df['Details'].apply(lambda x: re.findall(r'\\b\\d{4}\\b', str(x)))\n",
    "    df['contains_healthcare_provider'] = df['Details'].apply(lambda x: any(word in str(x).lower() for word in ['doctor', 'physician', 'healthcare provider']))\n",
    "    df['contains_vaccine'] = df['Details'].apply(lambda x: 'vaccine' in str(x).lower())\n",
    "    df['contains_diagnosis'] = df['Details'].apply(lambda x: 'diagnosis' in str(x).lower())\n",
    "\n",
    "\n",
    "    return df\n",
    "\n",
    "def preprocess_and_enhance_csv(input_file, output_file):\n",
    "    # Read the CSV file\n",
    "    df = pd.read_csv(input_file)\n",
    "\n",
    "    # Preprocess the 'Details' column\n",
    "    #df['Preprocessed_Details'] = df['Details'].apply(preprocess_text)\n",
    "\n",
    "    # Extract Title and Abstract\n",
    "    df[['Title', 'Abstract']] = df['Details'].apply(extract_title_abstract).apply(pd.Series)\n",
    "    df['Title_p'] = df['Title'].apply(preprocess_text)\n",
    "    df['Abstract_p'] = df['Abstract'].apply(preprocess_text)\n",
    "    df['Date'] = df['Details'].apply(extract_date)\n",
    "\n",
    "    # Add healthcare-related columns\n",
    "    df = add_healthcare_columns(df)\n",
    "\n",
    "    # Save the preprocessed and enhanced data to a new CSV file\n",
    "    df.to_csv(output_file, index=False)\n",
    "    print(f\"Preprocessed and enhanced data saved to {output_file}\")\n",
    "\n",
    "if __name__ == \"__main__\":\n",
    "    input_file = \"pubmed_results.csv\"  # Replace with your CSV file name\n",
    "    output_file = \"final_healthcare_dataset1.csv\"  # Adjust the output file name\n",
    "\n",
    "    preprocess_and_enhance_csv(input_file, output_file)"
   ]
  },
  {
   "cell_type": "code",
   "execution_count": null,
   "metadata": {
    "colab": {
     "base_uri": "https://localhost:8080/"
    },
    "executionInfo": {
     "elapsed": 1162,
     "status": "ok",
     "timestamp": 1701768450290,
     "user": {
      "displayName": "Sunshine",
      "userId": "17265841788323403260"
     },
     "user_tz": -330
    },
    "id": "gzEotfT_rxA2",
    "outputId": "89ac5b0e-50b4-42e0-8275-dc50e166d998"
   },
   "outputs": [
    {
     "name": "stderr",
     "output_type": "stream",
     "text": [
      "/usr/local/lib/python3.10/dist-packages/ipykernel/ipkernel.py:283: DeprecationWarning: `should_run_async` will not call `transform_cell` automatically in the future. Please pass the result to `transformed_cell` argument and any exception that happen during thetransform in `preprocessing_exc_tuple` in IPython 7.17 and above.\n",
      "  and should_run_async(code)\n"
     ]
    }
   ],
   "source": [
    "df1 = pd.read_csv('final_healthcare_dataset1.csv')"
   ]
  },
  {
   "cell_type": "code",
   "execution_count": null,
   "metadata": {
    "colab": {
     "base_uri": "https://localhost:8080/",
     "height": 660
    },
    "executionInfo": {
     "elapsed": 45,
     "status": "ok",
     "timestamp": 1701768450297,
     "user": {
      "displayName": "Sunshine",
      "userId": "17265841788323403260"
     },
     "user_tz": -330
    },
    "id": "KSd7z4BMr4Jr",
    "outputId": "5ea3bdcb-88b4-4c5a-f48b-88d05070118d"
   },
   "outputs": [
    {
     "name": "stderr",
     "output_type": "stream",
     "text": [
      "/usr/local/lib/python3.10/dist-packages/ipykernel/ipkernel.py:283: DeprecationWarning: `should_run_async` will not call `transform_cell` automatically in the future. Please pass the result to `transformed_cell` argument and any exception that happen during thetransform in `preprocessing_exc_tuple` in IPython 7.17 and above.\n",
      "  and should_run_async(code)\n"
     ]
    },
    {
     "data": {
      "text/html": [
       "\n",
       "  <div id=\"df-afa8446b-0fe8-454e-afec-e1c8483ac8de\" class=\"colab-df-container\">\n",
       "    <div>\n",
       "<style scoped>\n",
       "    .dataframe tbody tr th:only-of-type {\n",
       "        vertical-align: middle;\n",
       "    }\n",
       "\n",
       "    .dataframe tbody tr th {\n",
       "        vertical-align: top;\n",
       "    }\n",
       "\n",
       "    .dataframe thead th {\n",
       "        text-align: right;\n",
       "    }\n",
       "</style>\n",
       "<table border=\"1\" class=\"dataframe\">\n",
       "  <thead>\n",
       "    <tr style=\"text-align: right;\">\n",
       "      <th></th>\n",
       "      <th>Article ID</th>\n",
       "      <th>Details</th>\n",
       "      <th>Title</th>\n",
       "      <th>Abstract</th>\n",
       "      <th>Title_p</th>\n",
       "      <th>Abstract_p</th>\n",
       "      <th>Date</th>\n",
       "      <th>contains_drug</th>\n",
       "      <th>contains_disease</th>\n",
       "      <th>contains_treatment</th>\n",
       "      <th>contains_symptom</th>\n",
       "      <th>contains_prevention</th>\n",
       "      <th>publication_year</th>\n",
       "      <th>contains_healthcare_provider</th>\n",
       "      <th>contains_vaccine</th>\n",
       "      <th>contains_diagnosis</th>\n",
       "    </tr>\n",
       "  </thead>\n",
       "  <tbody>\n",
       "    <tr>\n",
       "      <th>0</th>\n",
       "      <td>38008732</td>\n",
       "      <td>\\nPMID- 38008732\\nOWN - NLM\\nSTAT- In-Process\\...</td>\n",
       "      <td>The Nottingham Ischaemic Cardiovascular Magnet...</td>\n",
       "      <td>INTRODUCTION: Research utilising artificial in...</td>\n",
       "      <td>nottingham ischaem cardiovascular magnet reson...</td>\n",
       "      <td>introduct research utilis artifici intellig ai...</td>\n",
       "      <td>2023-11-27</td>\n",
       "      <td>False</td>\n",
       "      <td>True</td>\n",
       "      <td>False</td>\n",
       "      <td>False</td>\n",
       "      <td>False</td>\n",
       "      <td>['1532', '1097', '6647', '2023', '1186', '2023...</td>\n",
       "      <td>False</td>\n",
       "      <td>False</td>\n",
       "      <td>False</td>\n",
       "    </tr>\n",
       "    <tr>\n",
       "      <th>1</th>\n",
       "      <td>38008606</td>\n",
       "      <td>\\nPMID- 38008606\\nOWN - NLM\\nSTAT- Publisher\\n...</td>\n",
       "      <td>Prognostic factors for critically ill surgical...</td>\n",
       "      <td>BACKGROUND: Unplanned readmission to the surgi...</td>\n",
       "      <td>prognost factor critic ill surgic patient unpl...</td>\n",
       "      <td>background unplan readmiss surgic intens care ...</td>\n",
       "      <td>2023-11-25</td>\n",
       "      <td>False</td>\n",
       "      <td>True</td>\n",
       "      <td>False</td>\n",
       "      <td>False</td>\n",
       "      <td>False</td>\n",
       "      <td>['1532', '7361', '0039', '6060', '2023', '6060...</td>\n",
       "      <td>False</td>\n",
       "      <td>False</td>\n",
       "      <td>False</td>\n",
       "    </tr>\n",
       "    <tr>\n",
       "      <th>2</th>\n",
       "      <td>38008436</td>\n",
       "      <td>\\nPMID- 38008436\\nOWN - NLM\\nSTAT- Publisher\\n...</td>\n",
       "      <td>Prevalence and Impact of Polyvascular Disease ...</td>\n",
       "      <td>BACKGROUND: This post hoc subanalysis aimed to...</td>\n",
       "      <td>preval impact polyvascular diseas patient acut...</td>\n",
       "      <td>background post hoc subanalysi aim investig im...</td>\n",
       "      <td>2023-11-23</td>\n",
       "      <td>False</td>\n",
       "      <td>True</td>\n",
       "      <td>False</td>\n",
       "      <td>False</td>\n",
       "      <td>False</td>\n",
       "      <td>['1347', '4820', '1346', '9843', '2023', '1253...</td>\n",
       "      <td>False</td>\n",
       "      <td>False</td>\n",
       "      <td>False</td>\n",
       "    </tr>\n",
       "    <tr>\n",
       "      <th>3</th>\n",
       "      <td>38008367</td>\n",
       "      <td>\\nPMID- 38008367\\nOWN - NLM\\nSTAT- Publisher\\n...</td>\n",
       "      <td>Loss of sodium current caused by a Brugada syn...</td>\n",
       "      <td>BACKGROUND: Brugada syndrome (BrS) is an inher...</td>\n",
       "      <td>loss sodium current caus brugada variant</td>\n",
       "      <td>background brugada syndrom br inherit cardiac ...</td>\n",
       "      <td>2023-11-24</td>\n",
       "      <td>True</td>\n",
       "      <td>True</td>\n",
       "      <td>False</td>\n",
       "      <td>False</td>\n",
       "      <td>False</td>\n",
       "      <td>['1556', '3871', '1547', '5271', '2023', '5271...</td>\n",
       "      <td>False</td>\n",
       "      <td>False</td>\n",
       "      <td>False</td>\n",
       "    </tr>\n",
       "    <tr>\n",
       "      <th>4</th>\n",
       "      <td>38008349</td>\n",
       "      <td>\\nPMID- 38008349\\nOWN - NLM\\nSTAT- Publisher\\n...</td>\n",
       "      <td>Predictors of Transthoracic Impedance in Patie...</td>\n",
       "      <td>Successful synchronized direct current cardiov...</td>\n",
       "      <td>predictor transthorac imped patient undergo el...</td>\n",
       "      <td>success synchron direct current cardiovers dcc...</td>\n",
       "      <td>2023-11-24</td>\n",
       "      <td>False</td>\n",
       "      <td>True</td>\n",
       "      <td>False</td>\n",
       "      <td>False</td>\n",
       "      <td>False</td>\n",
       "      <td>['1879', '1913', '0002', '9149', '2023', '9149...</td>\n",
       "      <td>True</td>\n",
       "      <td>False</td>\n",
       "      <td>False</td>\n",
       "    </tr>\n",
       "  </tbody>\n",
       "</table>\n",
       "</div>\n",
       "    <div class=\"colab-df-buttons\">\n",
       "\n",
       "  <div class=\"colab-df-container\">\n",
       "    <button class=\"colab-df-convert\" onclick=\"convertToInteractive('df-afa8446b-0fe8-454e-afec-e1c8483ac8de')\"\n",
       "            title=\"Convert this dataframe to an interactive table.\"\n",
       "            style=\"display:none;\">\n",
       "\n",
       "  <svg xmlns=\"http://www.w3.org/2000/svg\" height=\"24px\" viewBox=\"0 -960 960 960\">\n",
       "    <path d=\"M120-120v-720h720v720H120Zm60-500h600v-160H180v160Zm220 220h160v-160H400v160Zm0 220h160v-160H400v160ZM180-400h160v-160H180v160Zm440 0h160v-160H620v160ZM180-180h160v-160H180v160Zm440 0h160v-160H620v160Z\"/>\n",
       "  </svg>\n",
       "    </button>\n",
       "\n",
       "  <style>\n",
       "    .colab-df-container {\n",
       "      display:flex;\n",
       "      gap: 12px;\n",
       "    }\n",
       "\n",
       "    .colab-df-convert {\n",
       "      background-color: #E8F0FE;\n",
       "      border: none;\n",
       "      border-radius: 50%;\n",
       "      cursor: pointer;\n",
       "      display: none;\n",
       "      fill: #1967D2;\n",
       "      height: 32px;\n",
       "      padding: 0 0 0 0;\n",
       "      width: 32px;\n",
       "    }\n",
       "\n",
       "    .colab-df-convert:hover {\n",
       "      background-color: #E2EBFA;\n",
       "      box-shadow: 0px 1px 2px rgba(60, 64, 67, 0.3), 0px 1px 3px 1px rgba(60, 64, 67, 0.15);\n",
       "      fill: #174EA6;\n",
       "    }\n",
       "\n",
       "    .colab-df-buttons div {\n",
       "      margin-bottom: 4px;\n",
       "    }\n",
       "\n",
       "    [theme=dark] .colab-df-convert {\n",
       "      background-color: #3B4455;\n",
       "      fill: #D2E3FC;\n",
       "    }\n",
       "\n",
       "    [theme=dark] .colab-df-convert:hover {\n",
       "      background-color: #434B5C;\n",
       "      box-shadow: 0px 1px 3px 1px rgba(0, 0, 0, 0.15);\n",
       "      filter: drop-shadow(0px 1px 2px rgba(0, 0, 0, 0.3));\n",
       "      fill: #FFFFFF;\n",
       "    }\n",
       "  </style>\n",
       "\n",
       "    <script>\n",
       "      const buttonEl =\n",
       "        document.querySelector('#df-afa8446b-0fe8-454e-afec-e1c8483ac8de button.colab-df-convert');\n",
       "      buttonEl.style.display =\n",
       "        google.colab.kernel.accessAllowed ? 'block' : 'none';\n",
       "\n",
       "      async function convertToInteractive(key) {\n",
       "        const element = document.querySelector('#df-afa8446b-0fe8-454e-afec-e1c8483ac8de');\n",
       "        const dataTable =\n",
       "          await google.colab.kernel.invokeFunction('convertToInteractive',\n",
       "                                                    [key], {});\n",
       "        if (!dataTable) return;\n",
       "\n",
       "        const docLinkHtml = 'Like what you see? Visit the ' +\n",
       "          '<a target=\"_blank\" href=https://colab.research.google.com/notebooks/data_table.ipynb>data table notebook</a>'\n",
       "          + ' to learn more about interactive tables.';\n",
       "        element.innerHTML = '';\n",
       "        dataTable['output_type'] = 'display_data';\n",
       "        await google.colab.output.renderOutput(dataTable, element);\n",
       "        const docLink = document.createElement('div');\n",
       "        docLink.innerHTML = docLinkHtml;\n",
       "        element.appendChild(docLink);\n",
       "      }\n",
       "    </script>\n",
       "  </div>\n",
       "\n",
       "\n",
       "<div id=\"df-422d41ad-ccd3-4b64-b0de-314cbfebe593\">\n",
       "  <button class=\"colab-df-quickchart\" onclick=\"quickchart('df-422d41ad-ccd3-4b64-b0de-314cbfebe593')\"\n",
       "            title=\"Suggest charts\"\n",
       "            style=\"display:none;\">\n",
       "\n",
       "<svg xmlns=\"http://www.w3.org/2000/svg\" height=\"24px\"viewBox=\"0 0 24 24\"\n",
       "     width=\"24px\">\n",
       "    <g>\n",
       "        <path d=\"M19 3H5c-1.1 0-2 .9-2 2v14c0 1.1.9 2 2 2h14c1.1 0 2-.9 2-2V5c0-1.1-.9-2-2-2zM9 17H7v-7h2v7zm4 0h-2V7h2v10zm4 0h-2v-4h2v4z\"/>\n",
       "    </g>\n",
       "</svg>\n",
       "  </button>\n",
       "\n",
       "<style>\n",
       "  .colab-df-quickchart {\n",
       "      --bg-color: #E8F0FE;\n",
       "      --fill-color: #1967D2;\n",
       "      --hover-bg-color: #E2EBFA;\n",
       "      --hover-fill-color: #174EA6;\n",
       "      --disabled-fill-color: #AAA;\n",
       "      --disabled-bg-color: #DDD;\n",
       "  }\n",
       "\n",
       "  [theme=dark] .colab-df-quickchart {\n",
       "      --bg-color: #3B4455;\n",
       "      --fill-color: #D2E3FC;\n",
       "      --hover-bg-color: #434B5C;\n",
       "      --hover-fill-color: #FFFFFF;\n",
       "      --disabled-bg-color: #3B4455;\n",
       "      --disabled-fill-color: #666;\n",
       "  }\n",
       "\n",
       "  .colab-df-quickchart {\n",
       "    background-color: var(--bg-color);\n",
       "    border: none;\n",
       "    border-radius: 50%;\n",
       "    cursor: pointer;\n",
       "    display: none;\n",
       "    fill: var(--fill-color);\n",
       "    height: 32px;\n",
       "    padding: 0;\n",
       "    width: 32px;\n",
       "  }\n",
       "\n",
       "  .colab-df-quickchart:hover {\n",
       "    background-color: var(--hover-bg-color);\n",
       "    box-shadow: 0 1px 2px rgba(60, 64, 67, 0.3), 0 1px 3px 1px rgba(60, 64, 67, 0.15);\n",
       "    fill: var(--button-hover-fill-color);\n",
       "  }\n",
       "\n",
       "  .colab-df-quickchart-complete:disabled,\n",
       "  .colab-df-quickchart-complete:disabled:hover {\n",
       "    background-color: var(--disabled-bg-color);\n",
       "    fill: var(--disabled-fill-color);\n",
       "    box-shadow: none;\n",
       "  }\n",
       "\n",
       "  .colab-df-spinner {\n",
       "    border: 2px solid var(--fill-color);\n",
       "    border-color: transparent;\n",
       "    border-bottom-color: var(--fill-color);\n",
       "    animation:\n",
       "      spin 1s steps(1) infinite;\n",
       "  }\n",
       "\n",
       "  @keyframes spin {\n",
       "    0% {\n",
       "      border-color: transparent;\n",
       "      border-bottom-color: var(--fill-color);\n",
       "      border-left-color: var(--fill-color);\n",
       "    }\n",
       "    20% {\n",
       "      border-color: transparent;\n",
       "      border-left-color: var(--fill-color);\n",
       "      border-top-color: var(--fill-color);\n",
       "    }\n",
       "    30% {\n",
       "      border-color: transparent;\n",
       "      border-left-color: var(--fill-color);\n",
       "      border-top-color: var(--fill-color);\n",
       "      border-right-color: var(--fill-color);\n",
       "    }\n",
       "    40% {\n",
       "      border-color: transparent;\n",
       "      border-right-color: var(--fill-color);\n",
       "      border-top-color: var(--fill-color);\n",
       "    }\n",
       "    60% {\n",
       "      border-color: transparent;\n",
       "      border-right-color: var(--fill-color);\n",
       "    }\n",
       "    80% {\n",
       "      border-color: transparent;\n",
       "      border-right-color: var(--fill-color);\n",
       "      border-bottom-color: var(--fill-color);\n",
       "    }\n",
       "    90% {\n",
       "      border-color: transparent;\n",
       "      border-bottom-color: var(--fill-color);\n",
       "    }\n",
       "  }\n",
       "</style>\n",
       "\n",
       "  <script>\n",
       "    async function quickchart(key) {\n",
       "      const quickchartButtonEl =\n",
       "        document.querySelector('#' + key + ' button');\n",
       "      quickchartButtonEl.disabled = true;  // To prevent multiple clicks.\n",
       "      quickchartButtonEl.classList.add('colab-df-spinner');\n",
       "      try {\n",
       "        const charts = await google.colab.kernel.invokeFunction(\n",
       "            'suggestCharts', [key], {});\n",
       "      } catch (error) {\n",
       "        console.error('Error during call to suggestCharts:', error);\n",
       "      }\n",
       "      quickchartButtonEl.classList.remove('colab-df-spinner');\n",
       "      quickchartButtonEl.classList.add('colab-df-quickchart-complete');\n",
       "    }\n",
       "    (() => {\n",
       "      let quickchartButtonEl =\n",
       "        document.querySelector('#df-422d41ad-ccd3-4b64-b0de-314cbfebe593 button');\n",
       "      quickchartButtonEl.style.display =\n",
       "        google.colab.kernel.accessAllowed ? 'block' : 'none';\n",
       "    })();\n",
       "  </script>\n",
       "</div>\n",
       "    </div>\n",
       "  </div>\n"
      ],
      "text/plain": [
       "   Article ID                                            Details  \\\n",
       "0    38008732  \\nPMID- 38008732\\nOWN - NLM\\nSTAT- In-Process\\...   \n",
       "1    38008606  \\nPMID- 38008606\\nOWN - NLM\\nSTAT- Publisher\\n...   \n",
       "2    38008436  \\nPMID- 38008436\\nOWN - NLM\\nSTAT- Publisher\\n...   \n",
       "3    38008367  \\nPMID- 38008367\\nOWN - NLM\\nSTAT- Publisher\\n...   \n",
       "4    38008349  \\nPMID- 38008349\\nOWN - NLM\\nSTAT- Publisher\\n...   \n",
       "\n",
       "                                               Title  \\\n",
       "0  The Nottingham Ischaemic Cardiovascular Magnet...   \n",
       "1  Prognostic factors for critically ill surgical...   \n",
       "2  Prevalence and Impact of Polyvascular Disease ...   \n",
       "3  Loss of sodium current caused by a Brugada syn...   \n",
       "4  Predictors of Transthoracic Impedance in Patie...   \n",
       "\n",
       "                                            Abstract  \\\n",
       "0  INTRODUCTION: Research utilising artificial in...   \n",
       "1  BACKGROUND: Unplanned readmission to the surgi...   \n",
       "2  BACKGROUND: This post hoc subanalysis aimed to...   \n",
       "3  BACKGROUND: Brugada syndrome (BrS) is an inher...   \n",
       "4  Successful synchronized direct current cardiov...   \n",
       "\n",
       "                                             Title_p  \\\n",
       "0  nottingham ischaem cardiovascular magnet reson...   \n",
       "1  prognost factor critic ill surgic patient unpl...   \n",
       "2  preval impact polyvascular diseas patient acut...   \n",
       "3           loss sodium current caus brugada variant   \n",
       "4  predictor transthorac imped patient undergo el...   \n",
       "\n",
       "                                          Abstract_p        Date  \\\n",
       "0  introduct research utilis artifici intellig ai...  2023-11-27   \n",
       "1  background unplan readmiss surgic intens care ...  2023-11-25   \n",
       "2  background post hoc subanalysi aim investig im...  2023-11-23   \n",
       "3  background brugada syndrom br inherit cardiac ...  2023-11-24   \n",
       "4  success synchron direct current cardiovers dcc...  2023-11-24   \n",
       "\n",
       "   contains_drug  contains_disease  contains_treatment  contains_symptom  \\\n",
       "0          False              True               False             False   \n",
       "1          False              True               False             False   \n",
       "2          False              True               False             False   \n",
       "3           True              True               False             False   \n",
       "4          False              True               False             False   \n",
       "\n",
       "   contains_prevention                                   publication_year  \\\n",
       "0                False  ['1532', '1097', '6647', '2023', '1186', '2023...   \n",
       "1                False  ['1532', '7361', '0039', '6060', '2023', '6060...   \n",
       "2                False  ['1347', '4820', '1346', '9843', '2023', '1253...   \n",
       "3                False  ['1556', '3871', '1547', '5271', '2023', '5271...   \n",
       "4                False  ['1879', '1913', '0002', '9149', '2023', '9149...   \n",
       "\n",
       "   contains_healthcare_provider  contains_vaccine  contains_diagnosis  \n",
       "0                         False             False               False  \n",
       "1                         False             False               False  \n",
       "2                         False             False               False  \n",
       "3                         False             False               False  \n",
       "4                          True             False               False  "
      ]
     },
     "execution_count": 42,
     "metadata": {},
     "output_type": "execute_result"
    }
   ],
   "source": [
    "df1.head()"
   ]
  },
  {
   "cell_type": "code",
   "execution_count": null,
   "metadata": {
    "colab": {
     "base_uri": "https://localhost:8080/",
     "height": 177
    },
    "executionInfo": {
     "elapsed": 40,
     "status": "ok",
     "timestamp": 1701768450297,
     "user": {
      "displayName": "Sunshine",
      "userId": "17265841788323403260"
     },
     "user_tz": -330
    },
    "id": "ZwxkN-oVFjSM",
    "outputId": "2f1f233a-f725-497b-8d64-51431c78c1db"
   },
   "outputs": [
    {
     "name": "stderr",
     "output_type": "stream",
     "text": [
      "/usr/local/lib/python3.10/dist-packages/ipykernel/ipkernel.py:283: DeprecationWarning: `should_run_async` will not call `transform_cell` automatically in the future. Please pass the result to `transformed_cell` argument and any exception that happen during thetransform in `preprocessing_exc_tuple` in IPython 7.17 and above.\n",
      "  and should_run_async(code)\n"
     ]
    },
    {
     "data": {
      "application/vnd.google.colaboratory.intrinsic+json": {
       "type": "string"
      },
      "text/plain": [
       "'BACKGROUND: Unplanned readmission to the surgical intensive care unit has been        demonstrated to worsen patient outcomes. Our objective was to identify risk        factors and outcomes associated with unplanned surgical intensive care unit        readmission and to develop a predictive scoring model to identify patients at        high risk of readmission. METHODS: We retrospectively analyzed patients admitted        to the surgical intensive care unit (2020-2021) and categorized them as either        with or without unplanned readmission. RESULTS: Of 1,112 patients in the        derivation cohort, 76 (6.8%) experienced unplanned surgical intensive care unit        readmission, with sepsis being the leading cause of readmission (35.5%). Patients        who were readmitted had significantly higher in-hospital mortality rates than        those who were not. Multivariate analysis identified congestive heart failure,        high Sequential Organ Failure Assessment-Hepatic score, use of carbapenem during        surgical intensive care unit stay, as well as factors before surgical intensive        care unit discharge such as inadequate glycemic control, positive fluid balance,        low partial pressure of oxygen in arterial blood/fraction of inspired oxygen        ratio, and receipt of total parenteral nutrition as independent predictors for        unplanned readmission. The scoring model developed using these predictors        exhibited good discrimination between readmitted and non-readmitted patients,        with an area under the curve of 0.74. The observed rates of unplanned readmission        for scores of <4 points and >/=4 points were 4% and 20.2% (P < .001), respectively.        The model also demonstrated good performance in the validation cohort, with an        area under the curve of 0.74 and 19% observed unplanned readmission rate for        scores >/=4 points. CONCLUSION: Besides congestive heart failure, clinicians should        meticulously re-evaluate critical variables such as the Sequential Organ Failure        Assessment-Hepatic score, partial pressure of oxygen in arterial blood/fraction        of inspired oxygen ratio, glycemic control, and fluid status before releasing the        patient from the surgical intensive care unit. It is crucial to determine the        reasons for using carbapenems during surgical intensive care unit stay and the        causes for the inability to discontinue total parenteral nutrition before        discharging the patient from the surgical intensive care unit.'"
      ]
     },
     "execution_count": 43,
     "metadata": {},
     "output_type": "execute_result"
    }
   ],
   "source": [
    "df1[\"Abstract\"][1]"
   ]
  },
  {
   "cell_type": "code",
   "execution_count": null,
   "metadata": {
    "colab": {
     "base_uri": "https://localhost:8080/"
    },
    "executionInfo": {
     "elapsed": 35,
     "status": "ok",
     "timestamp": 1701768450297,
     "user": {
      "displayName": "Sunshine",
      "userId": "17265841788323403260"
     },
     "user_tz": -330
    },
    "id": "OyyiHafguu6F",
    "outputId": "cd96f596-511a-4d3a-f448-903cf93668cc"
   },
   "outputs": [
    {
     "name": "stdout",
     "output_type": "stream",
     "text": [
      "<class 'pandas.core.frame.DataFrame'>\n",
      "RangeIndex: 9999 entries, 0 to 9998\n",
      "Data columns (total 16 columns):\n",
      " #   Column                        Non-Null Count  Dtype \n",
      "---  ------                        --------------  ----- \n",
      " 0   Article ID                    9999 non-null   int64 \n",
      " 1   Details                       9996 non-null   object\n",
      " 2   Title                         9996 non-null   object\n",
      " 3   Abstract                      8910 non-null   object\n",
      " 4   Title_p                       9996 non-null   object\n",
      " 5   Abstract_p                    8910 non-null   object\n",
      " 6   Date                          6259 non-null   object\n",
      " 7   contains_drug                 9999 non-null   bool  \n",
      " 8   contains_disease              9999 non-null   bool  \n",
      " 9   contains_treatment            9999 non-null   bool  \n",
      " 10  contains_symptom              9999 non-null   bool  \n",
      " 11  contains_prevention           9999 non-null   bool  \n",
      " 12  publication_year              9999 non-null   object\n",
      " 13  contains_healthcare_provider  9999 non-null   bool  \n",
      " 14  contains_vaccine              9999 non-null   bool  \n",
      " 15  contains_diagnosis            9999 non-null   bool  \n",
      "dtypes: bool(8), int64(1), object(7)\n",
      "memory usage: 703.2+ KB\n"
     ]
    },
    {
     "name": "stderr",
     "output_type": "stream",
     "text": [
      "/usr/local/lib/python3.10/dist-packages/ipykernel/ipkernel.py:283: DeprecationWarning: `should_run_async` will not call `transform_cell` automatically in the future. Please pass the result to `transformed_cell` argument and any exception that happen during thetransform in `preprocessing_exc_tuple` in IPython 7.17 and above.\n",
      "  and should_run_async(code)\n"
     ]
    }
   ],
   "source": [
    "df1.info()"
   ]
  },
  {
   "cell_type": "code",
   "execution_count": null,
   "metadata": {
    "colab": {
     "base_uri": "https://localhost:8080/"
    },
    "executionInfo": {
     "elapsed": 31,
     "status": "ok",
     "timestamp": 1701768450297,
     "user": {
      "displayName": "Sunshine",
      "userId": "17265841788323403260"
     },
     "user_tz": -330
    },
    "id": "sD9n_kOChHfj",
    "outputId": "215a4891-a106-4999-cab9-bb1a94400663"
   },
   "outputs": [
    {
     "name": "stderr",
     "output_type": "stream",
     "text": [
      "/usr/local/lib/python3.10/dist-packages/ipykernel/ipkernel.py:283: DeprecationWarning: `should_run_async` will not call `transform_cell` automatically in the future. Please pass the result to `transformed_cell` argument and any exception that happen during thetransform in `preprocessing_exc_tuple` in IPython 7.17 and above.\n",
      "  and should_run_async(code)\n"
     ]
    }
   ],
   "source": [
    "df2 = df1.drop([\"Details\",\"publication_year\"],axis=1)"
   ]
  },
  {
   "cell_type": "code",
   "execution_count": null,
   "metadata": {
    "colab": {
     "base_uri": "https://localhost:8080/"
    },
    "executionInfo": {
     "elapsed": 1217,
     "status": "ok",
     "timestamp": 1701768451487,
     "user": {
      "displayName": "Sunshine",
      "userId": "17265841788323403260"
     },
     "user_tz": -330
    },
    "id": "AhmvBmLk2eeH",
    "outputId": "047ebf39-1f72-41ce-c601-3d43e356180f"
   },
   "outputs": [
    {
     "name": "stderr",
     "output_type": "stream",
     "text": [
      "/usr/local/lib/python3.10/dist-packages/ipykernel/ipkernel.py:283: DeprecationWarning: `should_run_async` will not call `transform_cell` automatically in the future. Please pass the result to `transformed_cell` argument and any exception that happen during thetransform in `preprocessing_exc_tuple` in IPython 7.17 and above.\n",
      "  and should_run_async(code)\n"
     ]
    }
   ],
   "source": [
    "df2.to_csv('final_data.csv',index=False)"
   ]
  },
  {
   "cell_type": "markdown",
   "metadata": {
    "id": "ZxhemyumH2km"
   },
   "source": [
    "What percentage of articles contain information about drugs?"
   ]
  },
  {
   "cell_type": "code",
   "execution_count": null,
   "metadata": {
    "colab": {
     "base_uri": "https://localhost:8080/",
     "height": 619
    },
    "executionInfo": {
     "elapsed": 29,
     "status": "ok",
     "timestamp": 1701768451487,
     "user": {
      "displayName": "Sunshine",
      "userId": "17265841788323403260"
     },
     "user_tz": -330
    },
    "id": "53Qnn2_rxFCD",
    "outputId": "781480ea-4d76-4ed4-a017-a48f5975d0bb"
   },
   "outputs": [
    {
     "name": "stderr",
     "output_type": "stream",
     "text": [
      "/usr/local/lib/python3.10/dist-packages/ipykernel/ipkernel.py:283: DeprecationWarning: `should_run_async` will not call `transform_cell` automatically in the future. Please pass the result to `transformed_cell` argument and any exception that happen during thetransform in `preprocessing_exc_tuple` in IPython 7.17 and above.\n",
      "  and should_run_async(code)\n"
     ]
    },
    {
     "data": {
      "image/png": "[encoded data removed]",
      "text/plain": [
       "<Figure size 800x600 with 1 Axes>"
      ]
     },
     "metadata": {},
     "output_type": "display_data"
    }
   ],
   "source": [
    "import seaborn as sns\n",
    "import matplotlib.pyplot as plt\n",
    "plt.figure(figsize=(8, 6))\n",
    "sns.countplot(x='contains_drug', data=df1)\n",
    "plt.title('Percentage of Articles Containing Information about Drugs')\n",
    "plt.xlabel('Contains Drug')\n",
    "plt.ylabel('Count')\n",
    "plt.show()"
   ]
  },
  {
   "cell_type": "markdown",
   "metadata": {
    "id": "RWrJb6NfH4tD"
   },
   "source": [
    "How many articles mention diseases?"
   ]
  },
  {
   "cell_type": "code",
   "execution_count": null,
   "metadata": {
    "colab": {
     "base_uri": "https://localhost:8080/",
     "height": 619
    },
    "executionInfo": {
     "elapsed": 415,
     "status": "ok",
     "timestamp": 1701768451881,
     "user": {
      "displayName": "Sunshine",
      "userId": "17265841788323403260"
     },
     "user_tz": -330
    },
    "id": "9_tsxdDWBB3S",
    "outputId": "d847488c-c7fa-447d-e84f-6f2adbb60f9d"
   },
   "outputs": [
    {
     "name": "stderr",
     "output_type": "stream",
     "text": [
      "/usr/local/lib/python3.10/dist-packages/ipykernel/ipkernel.py:283: DeprecationWarning: `should_run_async` will not call `transform_cell` automatically in the future. Please pass the result to `transformed_cell` argument and any exception that happen during thetransform in `preprocessing_exc_tuple` in IPython 7.17 and above.\n",
      "  and should_run_async(code)\n"
     ]
    },
    {
     "data": {
      "image/png": "[encoded data removed]",
      "text/plain": [
       "<Figure size 800x600 with 1 Axes>"
      ]
     },
     "metadata": {},
     "output_type": "display_data"
    }
   ],
   "source": [
    "plt.figure(figsize=(8, 6))\n",
    "sns.countplot(x='contains_disease', data=df1)\n",
    "plt.title('Number of Articles Mentioning Diseases')\n",
    "plt.xlabel('Contains Disease')\n",
    "plt.ylabel('Count')\n",
    "plt.show()\n"
   ]
  },
  {
   "cell_type": "markdown",
   "metadata": {
    "id": "ttPOlYNQH9d8"
   },
   "source": [
    "Number of articles mentioning treatments, symptoms, and prevention"
   ]
  },
  {
   "cell_type": "code",
   "execution_count": null,
   "metadata": {
    "colab": {
     "base_uri": "https://localhost:8080/",
     "height": 746
    },
    "executionInfo": {
     "elapsed": 51,
     "status": "ok",
     "timestamp": 1701768451899,
     "user": {
      "displayName": "Sunshine",
      "userId": "17265841788323403260"
     },
     "user_tz": -330
    },
    "id": "00fzusqDBKhp",
    "outputId": "c50b788f-a6c5-48b6-cdb5-8f29977d371b"
   },
   "outputs": [
    {
     "name": "stderr",
     "output_type": "stream",
     "text": [
      "/usr/local/lib/python3.10/dist-packages/ipykernel/ipkernel.py:283: DeprecationWarning: `should_run_async` will not call `transform_cell` automatically in the future. Please pass the result to `transformed_cell` argument and any exception that happen during thetransform in `preprocessing_exc_tuple` in IPython 7.17 and above.\n",
      "  and should_run_async(code)\n"
     ]
    },
    {
     "data": {
      "image/png": "[encoded data removed]",
      "text/plain": [
       "<Figure size 1000x600 with 1 Axes>"
      ]
     },
     "metadata": {},
     "output_type": "display_data"
    }
   ],
   "source": [
    "plt.figure(figsize=(10, 6))\n",
    "df1[['contains_treatment', 'contains_symptom', 'contains_prevention']].sum().plot(kind='bar', color=['blue', 'orange', 'green'])\n",
    "plt.title('Number of Articles Mentioning Treatments, Symptoms, and Prevention')\n",
    "plt.xlabel('Healthcare Terms')\n",
    "plt.ylabel('Count')\n",
    "plt.show()"
   ]
  },
  {
   "cell_type": "markdown",
   "metadata": {
    "id": "Yvi5eF0JIOc4"
   },
   "source": [
    "Distribution of articles containing information about vaccines"
   ]
  },
  {
   "cell_type": "code",
   "execution_count": null,
   "metadata": {
    "colab": {
     "base_uri": "https://localhost:8080/",
     "height": 619
    },
    "executionInfo": {
     "elapsed": 411,
     "status": "ok",
     "timestamp": 1701768452264,
     "user": {
      "displayName": "Sunshine",
      "userId": "17265841788323403260"
     },
     "user_tz": -330
    },
    "id": "0wICk7d6COwc",
    "outputId": "eed65550-53d2-4da2-b739-597c0835841b"
   },
   "outputs": [
    {
     "name": "stderr",
     "output_type": "stream",
     "text": [
      "/usr/local/lib/python3.10/dist-packages/ipykernel/ipkernel.py:283: DeprecationWarning: `should_run_async` will not call `transform_cell` automatically in the future. Please pass the result to `transformed_cell` argument and any exception that happen during thetransform in `preprocessing_exc_tuple` in IPython 7.17 and above.\n",
      "  and should_run_async(code)\n"
     ]
    },
    {
     "data": {
      "image/png": "[encoded data removed]",
      "text/plain": [
       "<Figure size 800x600 with 1 Axes>"
      ]
     },
     "metadata": {},
     "output_type": "display_data"
    }
   ],
   "source": [
    "plt.figure(figsize=(8, 6))\n",
    "sns.countplot(x='contains_vaccine', data=df1)\n",
    "plt.title('Distribution of Articles Containing Information about Vaccines')\n",
    "plt.xlabel('Contains Vaccine')\n",
    "plt.ylabel('Count')\n",
    "plt.show()"
   ]
  },
  {
   "cell_type": "markdown",
   "metadata": {
    "id": "zHq_DzLrIVlE"
   },
   "source": [
    "Pie chart of articles mentioning diagnosis"
   ]
  },
  {
   "cell_type": "code",
   "execution_count": null,
   "metadata": {
    "colab": {
     "base_uri": "https://localhost:8080/",
     "height": 730
    },
    "executionInfo": {
     "elapsed": 17,
     "status": "ok",
     "timestamp": 1701768452265,
     "user": {
      "displayName": "Sunshine",
      "userId": "17265841788323403260"
     },
     "user_tz": -330
    },
    "id": "kfbIhHj1DLhQ",
    "outputId": "1340c965-6466-47fb-bcd9-8d4482403bc6"
   },
   "outputs": [
    {
     "name": "stderr",
     "output_type": "stream",
     "text": [
      "/usr/local/lib/python3.10/dist-packages/ipykernel/ipkernel.py:283: DeprecationWarning: `should_run_async` will not call `transform_cell` automatically in the future. Please pass the result to `transformed_cell` argument and any exception that happen during thetransform in `preprocessing_exc_tuple` in IPython 7.17 and above.\n",
      "  and should_run_async(code)\n"
     ]
    },
    {
     "data": {
      "image/png": "[encoded data removed]",
      "text/plain": [
       "<Figure size 800x800 with 1 Axes>"
      ]
     },
     "metadata": {},
     "output_type": "display_data"
    }
   ],
   "source": [
    "plt.figure(figsize=(8, 8))\n",
    "diagnosis_count = df1['contains_diagnosis'].sum()\n",
    "diagnosis_percentage = (diagnosis_count / len(df)) * 100\n",
    "labels = ['Mentions Diagnosis', 'Does Not Mention Diagnosis']\n",
    "sizes = [diagnosis_count, len(df) - diagnosis_count]\n",
    "plt.pie(sizes, labels=labels, autopct='%1.1f%%', startangle=90, colors=['lightcoral', 'lightskyblue'])\n",
    "plt.title('Percentage of Articles Mentioning Diagnosis')\n",
    "plt.show()"
   ]
  },
  {
   "cell_type": "markdown",
   "metadata": {
    "id": "uHgkOO4oImvN"
   },
   "source": [
    "What are the most common terms in the preprocessed details?"
   ]
  },
  {
   "cell_type": "code",
   "execution_count": null,
   "metadata": {
    "colab": {
     "base_uri": "https://localhost:8080/",
     "height": 685
    },
    "executionInfo": {
     "elapsed": 4418,
     "status": "ok",
     "timestamp": 1701768456669,
     "user": {
      "displayName": "Sunshine",
      "userId": "17265841788323403260"
     },
     "user_tz": -330
    },
    "id": "pCKd8qKtGIHC",
    "outputId": "33928145-671d-40de-e5f3-2ea261c84fbd"
   },
   "outputs": [
    {
     "name": "stderr",
     "output_type": "stream",
     "text": [
      "/usr/local/lib/python3.10/dist-packages/ipykernel/ipkernel.py:283: DeprecationWarning: `should_run_async` will not call `transform_cell` automatically in the future. Please pass the result to `transformed_cell` argument and any exception that happen during thetransform in `preprocessing_exc_tuple` in IPython 7.17 and above.\n",
      "  and should_run_async(code)\n"
     ]
    },
    {
     "name": "stdout",
     "output_type": "stream",
     "text": [
      "Top 10 most common terms in  Abstract:\n",
      "[('ad', 27972), ('patient', 24266), ('au', 22762), ('fau', 22735), ('univers', 17553), ('diseas', 15018), ('heart', 14871), ('depart', 14485), ('mh', 13312), ('studi', 12968)]\n"
     ]
    },
    {
     "data": {
      "image/png": "[encoded data removed]",
      "text/plain": [
       "<Figure size 1000x600 with 1 Axes>"
      ]
     },
     "metadata": {},
     "output_type": "display_data"
    }
   ],
   "source": [
    "from sklearn.feature_extraction.text import CountVectorizer\n",
    "\n",
    "def get_top_n_words(corpus, n=10):\n",
    "    vec = CountVectorizer().fit(corpus.fillna(''))\n",
    "    bag_of_words = vec.transform(corpus.fillna(''))\n",
    "    sum_words = bag_of_words.sum(axis=0)\n",
    "    words_freq = [(word, sum_words[0, idx]) for word, idx in vec.vocabulary_.items()]\n",
    "    words_freq = sorted(words_freq, key=lambda x: x[1], reverse=True)\n",
    "    return words_freq[:n]\n",
    "\n",
    "top_words = get_top_n_words(df1['Abstract_p'])\n",
    "print(\"Top 10 most common terms in  Abstract:\")\n",
    "print(top_words)\n",
    "\n",
    "top_words_df = pd.DataFrame(top_words, columns=['Word', 'Count'])\n",
    "plt.figure(figsize=(10, 6))\n",
    "sns.barplot(x='Word', y='Count', data=top_words_df)\n",
    "plt.title('Top 10 Most Common Terms in Abstract')\n",
    "plt.xlabel('Term')\n",
    "plt.ylabel('Count')\n",
    "plt.xticks(rotation=45, ha='right')\n",
    "plt.show()"
   ]
  },
  {
   "cell_type": "code",
   "execution_count": null,
   "metadata": {
    "colab": {
     "base_uri": "https://localhost:8080/"
    },
    "executionInfo": {
     "elapsed": 29650,
     "status": "ok",
     "timestamp": 1701768486268,
     "user": {
      "displayName": "Sunshine",
      "userId": "17265841788323403260"
     },
     "user_tz": -330
    },
    "id": "p103U_HBb5jr",
    "outputId": "48c14cd1-9322-4af8-db7d-2a088c81a87a"
   },
   "outputs": [
    {
     "name": "stderr",
     "output_type": "stream",
     "text": [
      "/usr/local/lib/python3.10/dist-packages/ipykernel/ipkernel.py:283: DeprecationWarning: `should_run_async` will not call `transform_cell` automatically in the future. Please pass the result to `transformed_cell` argument and any exception that happen during thetransform in `preprocessing_exc_tuple` in IPython 7.17 and above.\n",
      "  and should_run_async(code)\n"
     ]
    },
    {
     "name": "stdout",
     "output_type": "stream",
     "text": [
      "Requirement already satisfied: spacy in /usr/local/lib/python3.10/dist-packages (3.6.1)\n",
      "Requirement already satisfied: spacy-legacy<3.1.0,>=3.0.11 in /usr/local/lib/python3.10/dist-packages (from spacy) (3.0.12)\n",
      "Requirement already satisfied: spacy-loggers<2.0.0,>=1.0.0 in /usr/local/lib/python3.10/dist-packages (from spacy) (1.0.5)\n",
      "Requirement already satisfied: murmurhash<1.1.0,>=0.28.0 in /usr/local/lib/python3.10/dist-packages (from spacy) (1.0.10)\n",
      "Requirement already satisfied: cymem<2.1.0,>=2.0.2 in /usr/local/lib/python3.10/dist-packages (from spacy) (2.0.8)\n",
      "Requirement already satisfied: preshed<3.1.0,>=3.0.2 in /usr/local/lib/python3.10/dist-packages (from spacy) (3.0.9)\n",
      "Requirement already satisfied: thinc<8.2.0,>=8.1.8 in /usr/local/lib/python3.10/dist-packages (from spacy) (8.1.12)\n",
      "Requirement already satisfied: wasabi<1.2.0,>=0.9.1 in /usr/local/lib/python3.10/dist-packages (from spacy) (1.1.2)\n",
      "Requirement already satisfied: srsly<3.0.0,>=2.4.3 in /usr/local/lib/python3.10/dist-packages (from spacy) (2.4.8)\n",
      "Requirement already satisfied: catalogue<2.1.0,>=2.0.6 in /usr/local/lib/python3.10/dist-packages (from spacy) (2.0.10)\n",
      "Requirement already satisfied: typer<0.10.0,>=0.3.0 in /usr/local/lib/python3.10/dist-packages (from spacy) (0.9.0)\n",
      "Requirement already satisfied: pathy>=0.10.0 in /usr/local/lib/python3.10/dist-packages (from spacy) (0.10.3)\n",
      "Requirement already satisfied: smart-open<7.0.0,>=5.2.1 in /usr/local/lib/python3.10/dist-packages (from spacy) (6.4.0)\n",
      "Requirement already satisfied: tqdm<5.0.0,>=4.38.0 in /usr/local/lib/python3.10/dist-packages (from spacy) (4.66.1)\n",
      "Requirement already satisfied: numpy>=1.15.0 in /usr/local/lib/python3.10/dist-packages (from spacy) (1.26.2)\n",
      "Requirement already satisfied: requests<3.0.0,>=2.13.0 in /usr/local/lib/python3.10/dist-packages (from spacy) (2.31.0)\n",
      "Requirement already satisfied: pydantic!=1.8,!=1.8.1,<3.0.0,>=1.7.4 in /usr/local/lib/python3.10/dist-packages (from spacy) (1.10.13)\n",
      "Requirement already satisfied: jinja2 in /usr/local/lib/python3.10/dist-packages (from spacy) (3.1.2)\n",
      "Requirement already satisfied: setuptools in /usr/local/lib/python3.10/dist-packages (from spacy) (67.7.2)\n",
      "Requirement already satisfied: packaging>=20.0 in /usr/local/lib/python3.10/dist-packages (from spacy) (23.2)\n",
      "Requirement already satisfied: langcodes<4.0.0,>=3.2.0 in /usr/local/lib/python3.10/dist-packages (from spacy) (3.3.0)\n",
      "Requirement already satisfied: typing-extensions>=4.2.0 in /usr/local/lib/python3.10/dist-packages (from pydantic!=1.8,!=1.8.1,<3.0.0,>=1.7.4->spacy) (4.5.0)\n",
      "Requirement already satisfied: charset-normalizer<4,>=2 in /usr/local/lib/python3.10/dist-packages (from requests<3.0.0,>=2.13.0->spacy) (3.3.2)\n",
      "Requirement already satisfied: idna<4,>=2.5 in /usr/local/lib/python3.10/dist-packages (from requests<3.0.0,>=2.13.0->spacy) (3.6)\n",
      "Requirement already satisfied: urllib3<3,>=1.21.1 in /usr/local/lib/python3.10/dist-packages (from requests<3.0.0,>=2.13.0->spacy) (2.0.7)\n",
      "Requirement already satisfied: certifi>=2017.4.17 in /usr/local/lib/python3.10/dist-packages (from requests<3.0.0,>=2.13.0->spacy) (2023.11.17)\n",
      "Requirement already satisfied: blis<0.8.0,>=0.7.8 in /usr/local/lib/python3.10/dist-packages (from thinc<8.2.0,>=8.1.8->spacy) (0.7.11)\n",
      "Requirement already satisfied: confection<1.0.0,>=0.0.1 in /usr/local/lib/python3.10/dist-packages (from thinc<8.2.0,>=8.1.8->spacy) (0.1.4)\n",
      "Requirement already satisfied: click<9.0.0,>=7.1.1 in /usr/local/lib/python3.10/dist-packages (from typer<0.10.0,>=0.3.0->spacy) (8.1.7)\n",
      "Requirement already satisfied: MarkupSafe>=2.0 in /usr/local/lib/python3.10/dist-packages (from jinja2->spacy) (2.1.3)\n",
      "2023-12-05 09:27:48.178519: E tensorflow/compiler/xla/stream_executor/cuda/cuda_dnn.cc:9342] Unable to register cuDNN factory: Attempting to register factory for plugin cuDNN when one has already been registered\n",
      "2023-12-05 09:27:48.178601: E tensorflow/compiler/xla/stream_executor/cuda/cuda_fft.cc:609] Unable to register cuFFT factory: Attempting to register factory for plugin cuFFT when one has already been registered\n",
      "2023-12-05 09:27:48.178668: E tensorflow/compiler/xla/stream_executor/cuda/cuda_blas.cc:1518] Unable to register cuBLAS factory: Attempting to register factory for plugin cuBLAS when one has already been registered\n",
      "2023-12-05 09:27:49.947864: W tensorflow/compiler/tf2tensorrt/utils/py_utils.cc:38] TF-TRT Warning: Could not find TensorRT\n",
      "Collecting en-core-web-sm==3.6.0\n",
      "  Downloading https://github.com/explosion/spacy-models/releases/download/en_core_web_sm-3.6.0/en_core_web_sm-3.6.0-py3-none-any.whl (12.8 MB)\n",
      "\u001b[2K     \u001b[90m━━━━━━━━━━━━━━━━━━━━━━━━━━━━━━━━━━━━━━━━\u001b[0m \u001b[32m12.8/12.8 MB\u001b[0m \u001b[31m22.5 MB/s\u001b[0m eta \u001b[36m0:00:00\u001b[0m\n",
      "\u001b[?25hRequirement already satisfied: spacy<3.7.0,>=3.6.0 in /usr/local/lib/python3.10/dist-packages (from en-core-web-sm==3.6.0) (3.6.1)\n",
      "Requirement already satisfied: spacy-legacy<3.1.0,>=3.0.11 in /usr/local/lib/python3.10/dist-packages (from spacy<3.7.0,>=3.6.0->en-core-web-sm==3.6.0) (3.0.12)\n",
      "Requirement already satisfied: spacy-loggers<2.0.0,>=1.0.0 in /usr/local/lib/python3.10/dist-packages (from spacy<3.7.0,>=3.6.0->en-core-web-sm==3.6.0) (1.0.5)\n",
      "Requirement already satisfied: murmurhash<1.1.0,>=0.28.0 in /usr/local/lib/python3.10/dist-packages (from spacy<3.7.0,>=3.6.0->en-core-web-sm==3.6.0) (1.0.10)\n",
      "Requirement already satisfied: cymem<2.1.0,>=2.0.2 in /usr/local/lib/python3.10/dist-packages (from spacy<3.7.0,>=3.6.0->en-core-web-sm==3.6.0) (2.0.8)\n",
      "Requirement already satisfied: preshed<3.1.0,>=3.0.2 in /usr/local/lib/python3.10/dist-packages (from spacy<3.7.0,>=3.6.0->en-core-web-sm==3.6.0) (3.0.9)\n",
      "Requirement already satisfied: thinc<8.2.0,>=8.1.8 in /usr/local/lib/python3.10/dist-packages (from spacy<3.7.0,>=3.6.0->en-core-web-sm==3.6.0) (8.1.12)\n",
      "Requirement already satisfied: wasabi<1.2.0,>=0.9.1 in /usr/local/lib/python3.10/dist-packages (from spacy<3.7.0,>=3.6.0->en-core-web-sm==3.6.0) (1.1.2)\n",
      "Requirement already satisfied: srsly<3.0.0,>=2.4.3 in /usr/local/lib/python3.10/dist-packages (from spacy<3.7.0,>=3.6.0->en-core-web-sm==3.6.0) (2.4.8)\n",
      "Requirement already satisfied: catalogue<2.1.0,>=2.0.6 in /usr/local/lib/python3.10/dist-packages (from spacy<3.7.0,>=3.6.0->en-core-web-sm==3.6.0) (2.0.10)\n",
      "Requirement already satisfied: typer<0.10.0,>=0.3.0 in /usr/local/lib/python3.10/dist-packages (from spacy<3.7.0,>=3.6.0->en-core-web-sm==3.6.0) (0.9.0)\n",
      "Requirement already satisfied: pathy>=0.10.0 in /usr/local/lib/python3.10/dist-packages (from spacy<3.7.0,>=3.6.0->en-core-web-sm==3.6.0) (0.10.3)\n",
      "Requirement already satisfied: smart-open<7.0.0,>=5.2.1 in /usr/local/lib/python3.10/dist-packages (from spacy<3.7.0,>=3.6.0->en-core-web-sm==3.6.0) (6.4.0)\n",
      "Requirement already satisfied: tqdm<5.0.0,>=4.38.0 in /usr/local/lib/python3.10/dist-packages (from spacy<3.7.0,>=3.6.0->en-core-web-sm==3.6.0) (4.66.1)\n",
      "Requirement already satisfied: numpy>=1.15.0 in /usr/local/lib/python3.10/dist-packages (from spacy<3.7.0,>=3.6.0->en-core-web-sm==3.6.0) (1.26.2)\n",
      "Requirement already satisfied: requests<3.0.0,>=2.13.0 in /usr/local/lib/python3.10/dist-packages (from spacy<3.7.0,>=3.6.0->en-core-web-sm==3.6.0) (2.31.0)\n",
      "Requirement already satisfied: pydantic!=1.8,!=1.8.1,<3.0.0,>=1.7.4 in /usr/local/lib/python3.10/dist-packages (from spacy<3.7.0,>=3.6.0->en-core-web-sm==3.6.0) (1.10.13)\n",
      "Requirement already satisfied: jinja2 in /usr/local/lib/python3.10/dist-packages (from spacy<3.7.0,>=3.6.0->en-core-web-sm==3.6.0) (3.1.2)\n",
      "Requirement already satisfied: setuptools in /usr/local/lib/python3.10/dist-packages (from spacy<3.7.0,>=3.6.0->en-core-web-sm==3.6.0) (67.7.2)\n",
      "Requirement already satisfied: packaging>=20.0 in /usr/local/lib/python3.10/dist-packages (from spacy<3.7.0,>=3.6.0->en-core-web-sm==3.6.0) (23.2)\n",
      "Requirement already satisfied: langcodes<4.0.0,>=3.2.0 in /usr/local/lib/python3.10/dist-packages (from spacy<3.7.0,>=3.6.0->en-core-web-sm==3.6.0) (3.3.0)\n",
      "Requirement already satisfied: typing-extensions>=4.2.0 in /usr/local/lib/python3.10/dist-packages (from pydantic!=1.8,!=1.8.1,<3.0.0,>=1.7.4->spacy<3.7.0,>=3.6.0->en-core-web-sm==3.6.0) (4.5.0)\n",
      "Requirement already satisfied: charset-normalizer<4,>=2 in /usr/local/lib/python3.10/dist-packages (from requests<3.0.0,>=2.13.0->spacy<3.7.0,>=3.6.0->en-core-web-sm==3.6.0) (3.3.2)\n",
      "Requirement already satisfied: idna<4,>=2.5 in /usr/local/lib/python3.10/dist-packages (from requests<3.0.0,>=2.13.0->spacy<3.7.0,>=3.6.0->en-core-web-sm==3.6.0) (3.6)\n",
      "Requirement already satisfied: urllib3<3,>=1.21.1 in /usr/local/lib/python3.10/dist-packages (from requests<3.0.0,>=2.13.0->spacy<3.7.0,>=3.6.0->en-core-web-sm==3.6.0) (2.0.7)\n",
      "Requirement already satisfied: certifi>=2017.4.17 in /usr/local/lib/python3.10/dist-packages (from requests<3.0.0,>=2.13.0->spacy<3.7.0,>=3.6.0->en-core-web-sm==3.6.0) (2023.11.17)\n",
      "Requirement already satisfied: blis<0.8.0,>=0.7.8 in /usr/local/lib/python3.10/dist-packages (from thinc<8.2.0,>=8.1.8->spacy<3.7.0,>=3.6.0->en-core-web-sm==3.6.0) (0.7.11)\n",
      "Requirement already satisfied: confection<1.0.0,>=0.0.1 in /usr/local/lib/python3.10/dist-packages (from thinc<8.2.0,>=8.1.8->spacy<3.7.0,>=3.6.0->en-core-web-sm==3.6.0) (0.1.4)\n",
      "Requirement already satisfied: click<9.0.0,>=7.1.1 in /usr/local/lib/python3.10/dist-packages (from typer<0.10.0,>=0.3.0->spacy<3.7.0,>=3.6.0->en-core-web-sm==3.6.0) (8.1.7)\n",
      "Requirement already satisfied: MarkupSafe>=2.0 in /usr/local/lib/python3.10/dist-packages (from jinja2->spacy<3.7.0,>=3.6.0->en-core-web-sm==3.6.0) (2.1.3)\n",
      "\u001b[38;5;2m✔ Download and installation successful\u001b[0m\n",
      "You can now load the package via spacy.load('en_core_web_sm')\n"
     ]
    }
   ],
   "source": [
    "!pip install spacy\n",
    "!python -m spacy download en_core_web_sm"
   ]
  },
  {
   "cell_type": "markdown",
   "metadata": {
    "id": "OMQuerVYhn5D"
   },
   "source": [
    "NER MODEL"
   ]
  },
  {
   "cell_type": "code",
   "execution_count": null,
   "metadata": {
    "colab": {
     "base_uri": "https://localhost:8080/",
     "height": 612
    },
    "executionInfo": {
     "elapsed": 459219,
     "status": "ok",
     "timestamp": 1701768945475,
     "user": {
      "displayName": "Sunshine",
      "userId": "17265841788323403260"
     },
     "user_tz": -330
    },
    "id": "LzwvxfKP1pi4",
    "outputId": "d1b9bbea-b026-4f18-cd36-60d7a1e777fc"
   },
   "outputs": [
    {
     "name": "stderr",
     "output_type": "stream",
     "text": [
      "/usr/local/lib/python3.10/dist-packages/ipykernel/ipkernel.py:283: DeprecationWarning: `should_run_async` will not call `transform_cell` automatically in the future. Please pass the result to `transformed_cell` argument and any exception that happen during thetransform in `preprocessing_exc_tuple` in IPython 7.17 and above.\n",
      "  and should_run_async(code)\n"
     ]
    },
    {
     "name": "stdout",
     "output_type": "stream",
     "text": [
      "Sample Article:\n",
      "INTRODUCTION: Research utilising artificial intelligence (AI) and cardiovascular        magnetic resonance (CMR) is rapidly evolving with various objectives, however AI        model development, generalisation and performance may be hindered by availability        of robust training datasets including contrast enhanced images. METHODS: NotIs        CMR is a large UK, prospective, multicentre, observational cohort study to guide        the development of a biventricular AI scar model. Patients with ischaemic heart        disease undergoing clinically indicated contrast-enhanced cardiac magnetic        resonance imaging will be recruited at Nottingham University Hospitals NHS Trust        and Mid-Yorkshire Hospital NHS Trust. Baseline assessment will include cardiac        magnetic resonance imaging, demographic data, medical history,        electrocardiographic and serum biomarkers. Participants will undergo monitoring        for a minimum of 5 years to document any major cardiovascular adverse events. The        main objectives include (1) AI training, validation and testing to improve the        performance, applicability and adaptability of an AI biventricular scar        segmentation model being developed by the authors and (2) develop a curated,        disease-specific imaging database to support future research and collaborations        and, (3) to explore associations in clinical outcome for future risk prediction        modelling studies. CONCLUSION: NotIs CMR will collect and curate        disease-specific, paired imaging and clinical datasets to develop an AI        biventricular scar model whilst providing a database to support future research        and collaboration in Artificial Intelligence and ischaemic heart disease.\n",
      "\n",
      "Named Entities:\n",
      "imag method - PERSON\n",
      "guid develop - LAW\n",
      "nottingham - ORG\n",
      "imag demograph data - ORG\n",
      "5 year - DATE\n",
      "1 - CARDINAL\n",
      "2 - CARDINAL\n",
      "imag databas - PRODUCT\n",
      "3 - CARDINAL\n"
     ]
    },
    {
     "data": {
      "text/html": [
       "<span class=\"tex2jax_ignore\"><div class=\"entities\" style=\"line-height: 2.5; direction: ltr\">INTRODUCTION: Research utilising artificial intelligence (\n",
       "<mark class=\"entity\" style=\"background: #7aecec; padding: 0.45em 0.6em; margin: 0 0.25em; line-height: 1; border-radius: 0.35em;\">\n",
       "    AI\n",
       "    <span style=\"font-size: 0.8em; font-weight: bold; line-height: 1; border-radius: 0.35em; vertical-align: middle; margin-left: 0.5rem\">ORG</span>\n",
       "</mark>\n",
       ") and cardiovascular        magnetic resonance (\n",
       "<mark class=\"entity\" style=\"background: #7aecec; padding: 0.45em 0.6em; margin: 0 0.25em; line-height: 1; border-radius: 0.35em;\">\n",
       "    CMR\n",
       "    <span style=\"font-size: 0.8em; font-weight: bold; line-height: 1; border-radius: 0.35em; vertical-align: middle; margin-left: 0.5rem\">ORG</span>\n",
       "</mark>\n",
       ") is rapidly evolving with various objectives, however \n",
       "<mark class=\"entity\" style=\"background: #7aecec; padding: 0.45em 0.6em; margin: 0 0.25em; line-height: 1; border-radius: 0.35em;\">\n",
       "    AI        \n",
       "    <span style=\"font-size: 0.8em; font-weight: bold; line-height: 1; border-radius: 0.35em; vertical-align: middle; margin-left: 0.5rem\">ORG</span>\n",
       "</mark>\n",
       "model development, generalisation and performance may be hindered by availability        of robust training datasets including contrast enhanced images. METHODS: \n",
       "<mark class=\"entity\" style=\"background: #bfeeb7; padding: 0.45em 0.6em; margin: 0 0.25em; line-height: 1; border-radius: 0.35em;\">\n",
       "    NotIs        CMR\n",
       "    <span style=\"font-size: 0.8em; font-weight: bold; line-height: 1; border-radius: 0.35em; vertical-align: middle; margin-left: 0.5rem\">PRODUCT</span>\n",
       "</mark>\n",
       " is a large \n",
       "<mark class=\"entity\" style=\"background: #feca74; padding: 0.45em 0.6em; margin: 0 0.25em; line-height: 1; border-radius: 0.35em;\">\n",
       "    UK\n",
       "    <span style=\"font-size: 0.8em; font-weight: bold; line-height: 1; border-radius: 0.35em; vertical-align: middle; margin-left: 0.5rem\">GPE</span>\n",
       "</mark>\n",
       ", prospective, multicentre, observational cohort study to guide        the development of a biventricular \n",
       "<mark class=\"entity\" style=\"background: #7aecec; padding: 0.45em 0.6em; margin: 0 0.25em; line-height: 1; border-radius: 0.35em;\">\n",
       "    AI\n",
       "    <span style=\"font-size: 0.8em; font-weight: bold; line-height: 1; border-radius: 0.35em; vertical-align: middle; margin-left: 0.5rem\">ORG</span>\n",
       "</mark>\n",
       " scar model. Patients with ischaemic heart        disease undergoing clinically indicated contrast-enhanced cardiac magnetic        resonance imaging will be recruited at \n",
       "<mark class=\"entity\" style=\"background: #7aecec; padding: 0.45em 0.6em; margin: 0 0.25em; line-height: 1; border-radius: 0.35em;\">\n",
       "    Nottingham University Hospitals NHS Trust        \n",
       "    <span style=\"font-size: 0.8em; font-weight: bold; line-height: 1; border-radius: 0.35em; vertical-align: middle; margin-left: 0.5rem\">ORG</span>\n",
       "</mark>\n",
       "and \n",
       "<mark class=\"entity\" style=\"background: #7aecec; padding: 0.45em 0.6em; margin: 0 0.25em; line-height: 1; border-radius: 0.35em;\">\n",
       "    Mid-Yorkshire Hospital NHS Trust\n",
       "    <span style=\"font-size: 0.8em; font-weight: bold; line-height: 1; border-radius: 0.35em; vertical-align: middle; margin-left: 0.5rem\">ORG</span>\n",
       "</mark>\n",
       ". Baseline assessment will include cardiac        magnetic resonance imaging, demographic data, medical history,        electrocardiographic and serum biomarkers. Participants will undergo monitoring        for a minimum of \n",
       "<mark class=\"entity\" style=\"background: #bfe1d9; padding: 0.45em 0.6em; margin: 0 0.25em; line-height: 1; border-radius: 0.35em;\">\n",
       "    5 years\n",
       "    <span style=\"font-size: 0.8em; font-weight: bold; line-height: 1; border-radius: 0.35em; vertical-align: middle; margin-left: 0.5rem\">DATE</span>\n",
       "</mark>\n",
       " to document any major cardiovascular adverse events. The        main objectives include (\n",
       "<mark class=\"entity\" style=\"background: #e4e7d2; padding: 0.45em 0.6em; margin: 0 0.25em; line-height: 1; border-radius: 0.35em;\">\n",
       "    1\n",
       "    <span style=\"font-size: 0.8em; font-weight: bold; line-height: 1; border-radius: 0.35em; vertical-align: middle; margin-left: 0.5rem\">CARDINAL</span>\n",
       "</mark>\n",
       ") AI training, validation and testing to improve the        performance, applicability and adaptability of an \n",
       "<mark class=\"entity\" style=\"background: #7aecec; padding: 0.45em 0.6em; margin: 0 0.25em; line-height: 1; border-radius: 0.35em;\">\n",
       "    AI\n",
       "    <span style=\"font-size: 0.8em; font-weight: bold; line-height: 1; border-radius: 0.35em; vertical-align: middle; margin-left: 0.5rem\">ORG</span>\n",
       "</mark>\n",
       " biventricular scar        segmentation model being developed by the authors and (\n",
       "<mark class=\"entity\" style=\"background: #e4e7d2; padding: 0.45em 0.6em; margin: 0 0.25em; line-height: 1; border-radius: 0.35em;\">\n",
       "    2\n",
       "    <span style=\"font-size: 0.8em; font-weight: bold; line-height: 1; border-radius: 0.35em; vertical-align: middle; margin-left: 0.5rem\">CARDINAL</span>\n",
       "</mark>\n",
       ") develop a curated,        disease-specific imaging database to support future research and collaborations        and, (\n",
       "<mark class=\"entity\" style=\"background: #e4e7d2; padding: 0.45em 0.6em; margin: 0 0.25em; line-height: 1; border-radius: 0.35em;\">\n",
       "    3\n",
       "    <span style=\"font-size: 0.8em; font-weight: bold; line-height: 1; border-radius: 0.35em; vertical-align: middle; margin-left: 0.5rem\">CARDINAL</span>\n",
       "</mark>\n",
       ") to explore associations in clinical outcome for future risk prediction        modelling studies. CONCLUSION: \n",
       "<mark class=\"entity\" style=\"background: #aa9cfc; padding: 0.45em 0.6em; margin: 0 0.25em; line-height: 1; border-radius: 0.35em;\">\n",
       "    NotIs CMR\n",
       "    <span style=\"font-size: 0.8em; font-weight: bold; line-height: 1; border-radius: 0.35em; vertical-align: middle; margin-left: 0.5rem\">PERSON</span>\n",
       "</mark>\n",
       " will collect and curate        disease-specific, paired imaging and clinical datasets to develop an \n",
       "<mark class=\"entity\" style=\"background: #7aecec; padding: 0.45em 0.6em; margin: 0 0.25em; line-height: 1; border-radius: 0.35em;\">\n",
       "    AI        \n",
       "    <span style=\"font-size: 0.8em; font-weight: bold; line-height: 1; border-radius: 0.35em; vertical-align: middle; margin-left: 0.5rem\">ORG</span>\n",
       "</mark>\n",
       "biventricular scar model whilst providing a database to support future research        and collaboration in \n",
       "<mark class=\"entity\" style=\"background: #7aecec; padding: 0.45em 0.6em; margin: 0 0.25em; line-height: 1; border-radius: 0.35em;\">\n",
       "    Artificial Intelligence\n",
       "    <span style=\"font-size: 0.8em; font-weight: bold; line-height: 1; border-radius: 0.35em; vertical-align: middle; margin-left: 0.5rem\">ORG</span>\n",
       "</mark>\n",
       " and ischaemic heart disease.</div></span>"
      ],
      "text/plain": [
       "<IPython.core.display.HTML object>"
      ]
     },
     "metadata": {},
     "output_type": "display_data"
    }
   ],
   "source": [
    "import pandas as pd\n",
    "import spacy\n",
    "from spacy import displacy\n",
    "\n",
    "# Load the English language model\n",
    "nlp = spacy.load(\"en_core_web_sm\")\n",
    "\n",
    "# Load your preprocessed healthcare dataset\n",
    "input_file = \"final_data.csv\"\n",
    "df = pd.read_csv(input_file)\n",
    "\n",
    "# Apply NER to each article\n",
    "def apply_ner(text):\n",
    "    doc = nlp(str(text))\n",
    "    return [(ent.text, ent.label_) for ent in doc.ents]\n",
    "\n",
    "df['NER'] = df['Abstract_p'].apply(apply_ner)\n",
    "\n",
    "# Display NER results for a sample article\n",
    "sample_article_index = 0\n",
    "sample_article_text = df.loc[sample_article_index, 'Abstract']\n",
    "sample_article_ner = df.loc[sample_article_index, 'NER']\n",
    "print(f\"Sample Article:\\n{sample_article_text}\\n\")\n",
    "print(\"Named Entities:\")\n",
    "for ent, label in sample_article_ner:\n",
    "    print(f\"{ent} - {label}\")\n",
    "\n",
    "# Visualize NER for a sample article\n",
    "sample_article_doc = nlp(sample_article_text)\n",
    "displacy.render(sample_article_doc, style='ent', jupyter=True)\n"
   ]
  },
  {
   "cell_type": "markdown",
   "metadata": {
    "id": "aQyqVJXThuj9"
   },
   "source": [
    "TOPIC MODELLING"
   ]
  },
  {
   "cell_type": "code",
   "execution_count": null,
   "metadata": {
    "colab": {
     "base_uri": "https://localhost:8080/"
    },
    "executionInfo": {
     "elapsed": 23940,
     "status": "ok",
     "timestamp": 1701768969365,
     "user": {
      "displayName": "Sunshine",
      "userId": "17265841788323403260"
     },
     "user_tz": -330
    },
    "id": "FdAqoSyshx-4",
    "outputId": "ff0ea794-f2b5-43ac-b4b5-0365ae6bf41c"
   },
   "outputs": [
    {
     "name": "stderr",
     "output_type": "stream",
     "text": [
      "/usr/local/lib/python3.10/dist-packages/ipykernel/ipkernel.py:283: DeprecationWarning: `should_run_async` will not call `transform_cell` automatically in the future. Please pass the result to `transformed_cell` argument and any exception that happen during thetransform in `preprocessing_exc_tuple` in IPython 7.17 and above.\n",
      "  and should_run_async(code)\n"
     ]
    },
    {
     "name": "stdout",
     "output_type": "stream",
     "text": [
      "Requirement already satisfied: gensim in /usr/local/lib/python3.10/dist-packages (4.3.2)\n",
      "Requirement already satisfied: numpy>=1.18.5 in /usr/local/lib/python3.10/dist-packages (from gensim) (1.26.2)\n",
      "Requirement already satisfied: scipy>=1.7.0 in /usr/local/lib/python3.10/dist-packages (from gensim) (1.11.4)\n",
      "Requirement already satisfied: smart-open>=1.8.1 in /usr/local/lib/python3.10/dist-packages (from gensim) (6.4.0)\n",
      "Requirement already satisfied: pyldavis in /usr/local/lib/python3.10/dist-packages (3.4.1)\n",
      "Requirement already satisfied: numpy>=1.24.2 in /usr/local/lib/python3.10/dist-packages (from pyldavis) (1.26.2)\n",
      "Requirement already satisfied: scipy in /usr/local/lib/python3.10/dist-packages (from pyldavis) (1.11.4)\n",
      "Requirement already satisfied: pandas>=2.0.0 in /usr/local/lib/python3.10/dist-packages (from pyldavis) (2.1.3)\n",
      "Requirement already satisfied: joblib>=1.2.0 in /usr/local/lib/python3.10/dist-packages (from pyldavis) (1.3.2)\n",
      "Requirement already satisfied: jinja2 in /usr/local/lib/python3.10/dist-packages (from pyldavis) (3.1.2)\n",
      "Requirement already satisfied: numexpr in /usr/local/lib/python3.10/dist-packages (from pyldavis) (2.8.7)\n",
      "Requirement already satisfied: funcy in /usr/local/lib/python3.10/dist-packages (from pyldavis) (2.0)\n",
      "Requirement already satisfied: scikit-learn>=1.0.0 in /usr/local/lib/python3.10/dist-packages (from pyldavis) (1.2.2)\n",
      "Requirement already satisfied: gensim in /usr/local/lib/python3.10/dist-packages (from pyldavis) (4.3.2)\n",
      "Requirement already satisfied: setuptools in /usr/local/lib/python3.10/dist-packages (from pyldavis) (67.7.2)\n",
      "Requirement already satisfied: python-dateutil>=2.8.2 in /usr/local/lib/python3.10/dist-packages (from pandas>=2.0.0->pyldavis) (2.8.2)\n",
      "Requirement already satisfied: pytz>=2020.1 in /usr/local/lib/python3.10/dist-packages (from pandas>=2.0.0->pyldavis) (2023.3.post1)\n",
      "Requirement already satisfied: tzdata>=2022.1 in /usr/local/lib/python3.10/dist-packages (from pandas>=2.0.0->pyldavis) (2023.3)\n",
      "Requirement already satisfied: threadpoolctl>=2.0.0 in /usr/local/lib/python3.10/dist-packages (from scikit-learn>=1.0.0->pyldavis) (3.2.0)\n",
      "Requirement already satisfied: smart-open>=1.8.1 in /usr/local/lib/python3.10/dist-packages (from gensim->pyldavis) (6.4.0)\n",
      "Requirement already satisfied: MarkupSafe>=2.0 in /usr/local/lib/python3.10/dist-packages (from jinja2->pyldavis) (2.1.3)\n",
      "Requirement already satisfied: six>=1.5 in /usr/local/lib/python3.10/dist-packages (from python-dateutil>=2.8.2->pandas>=2.0.0->pyldavis) (1.16.0)\n"
     ]
    }
   ],
   "source": [
    "!pip install gensim\n",
    "!pip install pyldavis\n"
   ]
  },
  {
   "cell_type": "code",
   "execution_count": null,
   "metadata": {
    "colab": {
     "base_uri": "https://localhost:8080/",
     "height": 72
    },
    "executionInfo": {
     "elapsed": 165955,
     "status": "ok",
     "timestamp": 1701769345801,
     "user": {
      "displayName": "Sunshine",
      "userId": "17265841788323403260"
     },
     "user_tz": -330
    },
    "id": "7hanstN5h2j5",
    "outputId": "2ca08727-16b1-4112-fdea-83389089303b"
   },
   "outputs": [
    {
     "name": "stderr",
     "output_type": "stream",
     "text": [
      "/usr/local/lib/python3.10/dist-packages/ipykernel/ipkernel.py:283: DeprecationWarning: `should_run_async` will not call `transform_cell` automatically in the future. Please pass the result to `transformed_cell` argument and any exception that happen during thetransform in `preprocessing_exc_tuple` in IPython 7.17 and above.\n",
      "  and should_run_async(code)\n"
     ]
    },
    {
     "data": {
      "text/html": [
       "\n",
       "<link rel=\"stylesheet\" type=\"text/css\" href=\"https://cdn.jsdelivr.net/gh/bmabey/pyLDAvis@3.4.0/pyLDAvis/js/ldavis.v1.0.0.css\">\n",
       "\n",
       "\n",
       "<div id=\"ldavis_el13391329813359132166488760860\" style=\"background-color:white;\"></div>\n",
       "<script type=\"text/javascript\">\n",
       "\n",
       "var ldavis_el13391329813359132166488760860_data = {\"mdsDat\": {\"x\": [0.168750485621388, 0.18962998271433815, -0.2618055835515768, 0.18580189529041194, -0.2823767800745611], \"y\": [0.07689304871972147, 0.11570574766715455, -0.04145296129606454, -0.18892297717354037, 0.03777714208272891], \"topics\": [1, 2, 3, 4, 5], \"cluster\": [1, 1, 1, 1, 1], \"Freq\": [24.529888251934075, 24.42403022278369, 23.833915514573718, 16.263273733548843, 10.948892277159676]}, \"tinfo\": {\"Term\": [\"ad\", \"au\", \"fau\", \"univers\", \"depart\", \"patient\", \"mh\", \"medicin\", \"ot\", \"orcid\", \"de\", \"risk\", \"institut\", \"hospit\", \"cell\", \"usa\", \"medic\", \"doi\", \"p\", \"cardiolog\", \"center\", \"school\", \"china\", \"95\", \"scienc\", \"research\", \"aid\", \"pt\", \"health\", \"ci\", \"copd\", \"ascvd\", \"ihd\", \"anxieti\", \"osa\", \"rural\", \"caregiv\", \"socioeconom\", \"web\", \"sle\", \"hba1c\", \"interview\", \"doac\", \"perceiv\", \"suicid\", \"incom\", \"overweight\", \"intak\", \"hrqol\", \"insur\", \"smd\", \"sociodemograph\", \"smoker\", \"qol\", \"psoriasi\", \"telehealth\", \"neighborhood\", \"tobacco\", \"emot\", \"quintil\", \"survey\", \"frailti\", \"adher\", \"cvd\", \"t2dm\", \"profession\", \"sglt2i\", \"sbp\", \"lifestyl\", \"cost\", \"t2d\", \"depress\", \"particip\", \"smoke\", \"bp\", \"cognit\", \"questionnair\", \"countri\", \"pandem\", \"dispar\", \"individu\", \"search\", \"risk\", \"obes\", \"statin\", \"preval\", \"physic\", \"sleep\", \"diabet\", \"popul\", \"chd\", \"older\", \"95\", \"women\", \"comorbid\", \"associ\", \"ci\", \"estim\", \"qualiti\", \"burden\", \"among\", \"data\", \"studi\", \"factor\", \"use\", \"diseas\", \"age\", \"care\", \"hf\", \"health\", \"year\", \"stroke\", \"adult\", \"includ\", \"cardiovascular\", \"increas\", \"outcom\", \"mortal\", \"result\", \"patient\", \"method\", \"heart\", \"assess\", \"conclus\", \"effect\", \"clinic\", \"p\", \"mitral\", \"postop\", \"lvef\", \"transcathet\", \"regurgit\", \"tavr\", \"preoper\", \"tricuspid\", \"tyg\", \"cabg\", \"cto\", \"ccta\", \"pacemak\", \"roc\", \"resuscit\", \"bypass\", \"ecmo\", \"closur\", \"balloon\", \"fontan\", \"ffr\", \"nyha\", \"cpr\", \"compress\", \"underw\", \"intraop\", \"dapt\", \"ecv\", \"shunt\", \"thrombu\", \"valv\", \"percutan\", \"stent\", \"rv\", \"cmr\", \"endocard\", \"pci\", \"stenosi\", \"angiographi\", \"septal\", \"procedur\", \"implant\", \"bleed\", \"curv\", \"revascular\", \"aortic\", \"left\", \"right\", \"lv\", \"undergo\", \"ablat\", \"patient\", \"ventricular\", \"p\", \"coronari\", \"group\", \"arteri\", \"surviv\", \"retrospect\", \"valu\", \"volum\", \"case\", \"atrial\", \"fraction\", \"surgeri\", \"predict\", \"complic\", \"compar\", \"outcom\", \"acut\", \"mortal\", \"score\", \"cardiac\", \"conclus\", \"year\", \"studi\", \"method\", \"result\", \"2\", \"perform\", \"use\", \"rate\", \"95\", \"clinic\", \"heart\", \"includ\", \"associ\", \"ci\", \"risk\", \"age\", \"hospit\", \"diseas\", \"nih\", \"li\", \"wang\", \"ringgold\", \"liu\", \"r01\", \"chen\", \"tokyo\", \"ircc\", \"tx\", \"columbia\", \"rome\", \"houston\", \"ohio\", \"yang\", \"guangzhou\", \"peke\", \"physiol\", \"zhejiang\", \"baltimor\", \"philadelphia\", \"taipei\", \"xue\", \"shandong\", \"cincinnati\", \"milan\", \"nanj\", \"lin\", \"istanbul\", \"fl\", \"usa\", \"itali\", \"beij\", \"zhang\", \"texa\", \"washington\", \"california\", \"china\", \"mh\", \"pittsburgh\", \"cleveland\", \"gr\", \"japan\", \"affili\", \"angel\", \"ot\", \"school\", \"medicin\", \"au\", \"fau\", \"state\", \"divis\", \"scienc\", \"ad\", \"depart\", \"pt\", \"doi\", \"univers\", \"rn\", \"journal\", \"sb\", \"ta\", \"im\", \"center\", \"pl\", \"aid\", \"jt\", \"pst\", \"jid\", \"2023\", \"orcid\", \"medic\", \"j\", \"hospit\", \"institut\", \"cardiolog\", \"research\", \"health\", \"cardiovascular\", \"heart\", \"unit\", \"diseas\", \"nan\", \"cardiomyocyt\", \"rat\", \"inhibit\", \"mutat\", \"macrophag\", \"vivo\", \"mice\", \"vitro\", \"mous\", \"apoptosi\", \"mitochondri\", \"cytokin\", \"fibroblast\", \"stain\", \"upregul\", \"prolifer\", \"gut\", \"bind\", \"mirna\", \"mrna\", \"transcriptom\", \"rna\", \"amyloidosi\", \"antioxid\", \"overexpress\", \"gene\", \"collagen\", \"autophagi\", \"delet\", \"cell\", \"signal\", \"oxid\", \"regul\", \"express\", \"pathway\", \"immun\", \"protein\", \"fibrosi\", \"tissu\", \"pathogen\", \"cellular\", \"transcript\", \"cardiotox\", \"induc\", \"inflamm\", \"variant\", \"sequenc\", \"endotheli\", \"mechan\", \"inflammatori\", \"role\", \"activ\", \"cardiac\", \"target\", \"respons\", \"therapeut\", \"function\", \"potenti\", \"effect\", \"heart\", \"diseas\", \"develop\", \"model\", \"myocardi\", \"use\", \"treatment\", \"increas\", \"level\", \"result\", \"studi\", \"caus\", \"show\", \"human\", \"ir\", \"fir\", \"spain\", \"poland\", \"fee\", \"universidad\", \"munich\", \"seoul\", \"sao\", \"paulo\", \"instituto\", \"universitario\", \"madrid\", \"heidelberg\", \"bart\", \"moscow\", \"brasil\", \"romania\", \"investigacion\", \"astrazeneca\", \"aarhu\", \"zurich\", \"boehring\", \"ingelheim\", \"hallym\", \"bordeaux\", \"cologn\", \"leipzig\", \"wroclaw\", \"santiago\", \"germani\", \"de\", \"bristol\", \"kingdom\", \"novarti\", \"korea\", \"london\", \"grant\", \"oxford\", \"denmark\", \"dr\", \"brazil\", \"german\", \"submit\", \"franc\", \"republ\", \"centr\", \"trust\", \"ad\", \"uk\", \"fau\", \"au\", \"univers\", \"institut\", \"depart\", \"orcid\", \"cardiolog\", \"hospit\", \"research\", \"medicin\", \"mh\", \"ot\", \"medic\", \"unit\", \"aid\", \"j\", \"heart\", \"center\", \"health\", \"cardiovascular\", \"doi\", \"receiv\", \"clinic\"], \"Freq\": [27518.0, 22243.0, 22215.0, 17522.0, 14456.0, 23666.0, 13410.0, 10868.0, 9482.0, 6353.0, 3146.0, 9540.0, 5519.0, 10465.0, 3259.0, 3985.0, 9275.0, 4849.0, 9712.0, 4636.0, 5920.0, 4367.0, 3652.0, 6278.0, 4718.0, 6789.0, 4703.0, 4001.0, 7801.0, 5826.0, 577.5994110118528, 390.21780827068585, 295.51149677585283, 249.80886560217874, 177.9911864117456, 175.71611248526597, 165.7256239901969, 158.75411071115303, 165.39293944375518, 153.47722491360742, 140.96288926063943, 139.965451215241, 130.80860881004628, 129.6482435720209, 124.70734014552491, 123.50540766044212, 125.06255249828796, 295.95715746486104, 117.28746196129438, 177.86390503888012, 110.77218439550123, 109.38345579612967, 111.30879908719442, 109.65710928209057, 103.87937186859934, 101.73757402727236, 99.47221769063725, 99.50850108982293, 95.43509409067626, 95.88309257090646, 417.05963820302605, 253.5222454246349, 338.6674158743468, 1998.3440538405157, 300.32303753573086, 200.85249807139405, 152.35874937660108, 278.44436035324105, 299.54006068883166, 561.7389559417592, 320.140119971357, 506.9730819537607, 2177.9354326939883, 443.42004437061047, 509.4790768877824, 533.5412950426356, 357.19523942927384, 445.7517675953542, 341.51043382629433, 241.2163909148772, 1843.7700604043207, 548.8653039765161, 6887.37085247295, 809.0240916420249, 335.65880315608945, 1366.2332143304093, 827.122787601978, 576.1007622540513, 2085.8282760140996, 1715.1526728337246, 1298.0264625446146, 777.2834238681869, 3919.1070915778946, 1332.2720113206067, 800.8034503435101, 5313.491592064942, 3638.70886541498, 917.4341102274024, 1003.7670545018806, 827.5191714628454, 1892.427659682631, 2469.990779966799, 6187.674366135196, 2616.833265450318, 4709.545405893884, 6304.385346369538, 2968.0519965842354, 2026.2945977490228, 1574.8677283704735, 3531.489288228052, 2542.889764546658, 1394.6612246141428, 1300.8938404276655, 2674.6810371478596, 3345.9799997582554, 2465.6225254622113, 2392.1560219098337, 2224.8218803028994, 2898.787713060188, 5741.5641176764675, 2325.4650382558048, 3313.8830496707815, 1755.024750100688, 1923.216736501619, 1843.33644776788, 1984.4858033603475, 1892.7775515450267, 724.1561150701223, 650.4835558605351, 521.4434319279059, 418.70707650956706, 388.28171294903655, 375.7216634834628, 289.2212011868465, 251.89232426601242, 234.90324789250204, 229.5083338789738, 219.9365145203434, 204.60498126938327, 195.64504850988024, 212.0523597768362, 249.36591326394856, 336.42697973483695, 183.69859311176288, 178.42051663192603, 178.5107059846881, 169.63429323584157, 162.89903117780239, 157.74638794828752, 149.71174249188675, 138.9132311857213, 1285.3188795794485, 128.0904504792899, 120.30894814797176, 119.62531869153399, 118.01181219875063, 141.88575842153645, 1945.7847914786382, 575.4851839778531, 482.64335943232385, 482.3951198060322, 337.9491074845265, 258.4095995340505, 698.326584938899, 769.5294736324317, 541.9403487489894, 327.69559963772974, 1159.067912459098, 782.2385836237518, 568.4524575869095, 658.4215615282643, 434.74674211717326, 1701.6971444132296, 2193.1225242426744, 921.3391109507915, 856.777777869653, 764.5113847447399, 576.5019594771471, 17091.549457743626, 2117.6016378638283, 6848.048951479365, 3459.6829524473865, 4988.063597095194, 2646.0500680645146, 1206.245525076533, 1054.356147527835, 1413.6198594443283, 830.0044409711437, 1882.9982914598797, 1365.593824786088, 977.4912354803851, 1875.647713272309, 1594.9280114892513, 1227.7855445154194, 2495.372088217123, 2643.9950350712234, 1390.276519950086, 2378.263928092434, 1640.2285180695237, 3052.844794761305, 2381.0769018988403, 2316.0088739426374, 3983.3250198331757, 2425.3267754881667, 2857.568092410602, 2024.1827473980861, 1612.2318749726446, 2986.5289431127776, 1836.290130476692, 2321.6035325631647, 2519.1713363489516, 3171.1526775901784, 2158.5530912664453, 2538.831564501337, 2154.228438832773, 2407.1098104799166, 1967.9760422569504, 2112.9970189991873, 2036.8786062676734, 1419.1822413218456, 604.6693251737921, 589.9567998439719, 446.14443527137723, 428.4384785465063, 416.31798374159223, 384.84388887567434, 379.07559915571335, 373.4404071627221, 359.18046537271573, 354.1508637650941, 344.14697315112943, 332.87109208376353, 329.9690318652844, 313.7746585917326, 312.8777513753236, 290.3989608597864, 287.7181510464221, 284.53431556303565, 272.73487309674846, 265.6174628902952, 264.47797203583747, 252.4502155572692, 225.2940638769598, 224.96740052780152, 224.60627361142016, 218.01930327618922, 212.99720675118184, 210.95458530061418, 209.52917500849625, 3955.514286925586, 1583.4410713061461, 1171.580252168829, 507.96911271174065, 431.1051896278248, 356.2277351657326, 543.0843546604945, 3444.0979630229285, 11198.547101100285, 475.2641842970804, 376.36308855696115, 1933.302445690306, 842.1439245165802, 610.77928840814, 410.52744935551453, 7654.05819087087, 3703.5330891877074, 8462.417394991802, 16180.915734750111, 16151.306916374997, 3523.2996837383344, 2114.0549123372602, 3833.0864803680524, 19183.77271606033, 10674.014570122836, 3277.5738797920276, 3901.857304023371, 12443.282284462652, 1699.8848633022747, 2851.434206626162, 1739.3733895202026, 2109.623524202685, 1708.8437957722058, 4295.3184518545895, 2030.7093606564395, 3446.9448245692765, 2023.2795852088823, 2009.9929401289148, 2009.9929401289148, 2708.748202573736, 4223.387233638054, 5680.871429103023, 2721.9977067515056, 5013.191025307784, 3328.541451230216, 2781.3197026011603, 3384.1762441390183, 3029.5719993300754, 3144.3629072492704, 3446.4093575744055, 2213.302010899384, 2487.060081672928, 1134.6937470451253, 828.795073838, 789.3828083812775, 630.3887189970482, 484.0351988299162, 430.9149479854724, 412.0437095409621, 1315.9319249506057, 390.06899191160954, 377.8867419133252, 371.9549461040663, 645.0711040266325, 277.8870934595959, 259.71835719824304, 232.98073074025567, 231.61896953660136, 230.0031717580549, 223.2103608511853, 219.6133265581352, 217.15235331234575, 220.72625980154598, 201.93264526340235, 434.5687911614243, 197.75840706569915, 192.76060526451855, 189.81791290425613, 1866.9823648266731, 185.56741125923622, 173.2290194322713, 168.91815227569032, 3194.852900994839, 979.5211871323239, 678.1065092134559, 889.07740304574, 1775.947908290841, 1041.816840253018, 714.7580534254171, 1633.5216835687095, 828.2256245499318, 1240.561949397418, 346.77797996284215, 478.5439585313035, 373.4657941844705, 329.4423499534459, 769.9909028232059, 791.8265037971321, 822.6273744294725, 456.02976058324117, 519.6465360522534, 1467.9830476191048, 734.6160133837574, 1224.1413641450465, 1591.309049203483, 3137.3286498542775, 1043.2600929537668, 907.0478232478625, 946.467163091645, 1811.3283950475238, 1365.0878758638894, 1932.2136553556988, 3142.528557564899, 2950.2000729649167, 1331.5022621669905, 1404.861634725324, 1257.590310012809, 1746.23797033556, 1352.5853349349782, 1389.5408445689661, 1223.1815797204063, 1470.9561559566991, 1575.6132387924304, 1034.8187166403752, 1003.9967783278893, 982.4684078777099, 1439.5665218467448, 1335.877415123217, 691.478992079366, 698.865954735509, 482.774347225944, 387.075362042029, 387.3972351934317, 378.14793541811173, 365.5209040256816, 340.42275345513497, 281.1585529196586, 273.77096221834205, 243.1452552333531, 231.92674598517098, 227.8857463277801, 224.40603587562796, 221.320292927083, 220.23178596726618, 213.09274414334988, 213.33991917193313, 207.8214432439572, 181.5847776166563, 163.19952713555304, 161.5119435858938, 160.43831344612352, 146.32755149992255, 145.0923174864541, 144.5504976815929, 139.75494100110276, 137.89985256996965, 1332.429865817656, 3095.5902781682094, 156.6405504507073, 855.9388488667773, 223.32414955868148, 823.922309676593, 823.9677906145718, 578.856152111637, 278.161285834926, 434.3382473576923, 711.5811479691648, 347.01296230308634, 311.20562095149177, 333.4723607001993, 377.88481065897724, 547.3582735605423, 1168.7044555235186, 306.4958840271012, 8333.696373288174, 640.0998201911423, 6064.053745806799, 6062.437576227073, 4987.705740548348, 1980.965013070754, 3681.292646041633, 2129.8305605380356, 1665.587000177872, 2480.8950422551684, 1923.9370458810595, 2152.0545670463985, 2211.2907410660086, 1827.986607110817, 1693.8834707943079, 1115.604806219675, 1094.0865131379, 974.8093252088793, 1466.6210331326465, 1114.8190170334703, 1195.8251209010255, 1099.8924767440312, 946.8595355281981, 849.7906006411056, 848.6128065924606], \"Total\": [27518.0, 22243.0, 22215.0, 17522.0, 14456.0, 23666.0, 13410.0, 10868.0, 9482.0, 6353.0, 3146.0, 9540.0, 5519.0, 10465.0, 3259.0, 3985.0, 9275.0, 4849.0, 9712.0, 4636.0, 5920.0, 4367.0, 3652.0, 6278.0, 4718.0, 6789.0, 4703.0, 4001.0, 7801.0, 5826.0, 578.3938223862153, 391.00177616299635, 296.29823270915176, 250.6038859170466, 178.78475651715556, 176.50266974409254, 166.51077529892478, 159.53901897497764, 166.24858748974677, 154.2864531043382, 141.7466662496994, 140.75481054385557, 131.5958356518262, 130.44589890961825, 125.48737987880439, 124.2909898264126, 125.85876703015029, 297.8867307280776, 118.07128307717949, 179.06759870073247, 111.56555003659949, 110.1674620194635, 112.10806347804282, 110.4476378002156, 104.66923402675036, 102.52454339491881, 100.25739632109523, 100.29879186343643, 96.22123840093649, 96.67312309917178, 421.56247478340623, 255.67048087166972, 342.6624895252293, 2061.6995320874908, 304.63704262600953, 203.30035106287437, 153.8269239319815, 284.86576678067763, 308.6439535643105, 591.1861520219188, 331.8983387599187, 533.3672368382487, 2442.4713611749544, 467.1739453165982, 541.534019936976, 570.246947868372, 375.3193058864661, 475.3195650544481, 361.25409085549273, 249.59900928609923, 2227.345009897077, 605.7785716097119, 9540.912432461788, 941.1149641514713, 358.1872727234047, 1678.9801530754319, 981.0831235828999, 663.2954204123188, 2836.2622639167516, 2290.278598161645, 1669.06392417255, 939.2306798639574, 6278.697404500271, 1766.1825397123, 973.6597761415536, 9114.48264882356, 5826.253616474313, 1147.7610698320511, 1282.9662859940292, 1019.147706722649, 2776.274667459046, 3914.4393460548977, 12737.8523553773, 4467.497556263426, 9637.321635036957, 14476.869412561759, 5453.845200578801, 3362.7780303598947, 2466.3437038119396, 7801.619865740991, 5037.642557325804, 2176.0758402514525, 1979.432836198733, 5748.084849678968, 8822.748723824328, 5441.632474243294, 5236.269215691277, 4710.6570369470655, 7366.262872531478, 23666.248006044043, 5533.874873318524, 14540.594675532913, 3641.3796460305402, 4853.272547863306, 4886.210634029869, 7935.793689190568, 9712.975719720182, 724.9482545412959, 651.2742852535396, 522.2360149377862, 419.4979143856657, 389.07077728061165, 376.5080411380725, 290.01061575836945, 252.68107318100297, 235.69178673835947, 230.29698406831073, 220.72469842987257, 205.39547211806672, 196.43688177304088, 212.92036118209685, 250.40053329077404, 337.8629931001193, 184.4874960741289, 179.21335492082937, 179.31442393613838, 170.42839247969113, 163.6933039679787, 158.5399225613009, 150.51127396661423, 139.70605548032776, 1293.185205178519, 128.881032299716, 121.10975179674652, 120.42182947803595, 118.80189817459305, 142.83740367294973, 1966.547120711994, 579.5403962355431, 486.7096383215157, 487.3752962453505, 341.0337198745184, 260.2384186317589, 712.5381360879063, 789.2437116270747, 554.7287443810486, 332.2420353940693, 1213.8612759027399, 816.7060486383067, 589.2300340127023, 689.3437483938603, 448.54557251700146, 1892.3189570098364, 2472.3358071689877, 1005.0132846258691, 932.5261508781858, 827.9793886068366, 612.6561915531248, 23666.248006044043, 2526.745026182477, 9712.975719720182, 4655.694046252112, 7278.212432444755, 3575.567709090967, 1476.4425133088755, 1267.106463424703, 1819.182252096149, 967.1909402240859, 2820.8259117832135, 1861.3047560873529, 1224.2397639782434, 2999.571119053742, 2430.2957380676858, 1714.1994264142827, 4800.574528295133, 5236.269215691277, 2085.821309714637, 4710.6570369470655, 2692.6824206224424, 7185.668566850646, 4853.272547863306, 5037.642557325804, 12737.8523553773, 5533.874873318524, 7366.262872531478, 4275.935388976165, 2836.5205095031056, 9637.321635036957, 3682.2265170081464, 6278.697404500271, 7935.793689190568, 14540.594675532913, 5748.084849678968, 9114.48264882356, 5826.253616474313, 9540.912432461788, 5453.845200578801, 10465.66332670154, 14476.869412561759, 1419.9778041125148, 605.4618058195533, 590.7465270527879, 446.9350695447344, 429.22872897839756, 417.11247041788755, 385.63535573627996, 379.8632899158573, 374.2293139391126, 359.96809483139754, 354.9511076880378, 344.9484471518069, 333.65866767211975, 330.7576398911789, 314.5704575425174, 313.67188410061954, 291.1890719512335, 288.5093372708807, 285.3218752554012, 273.52991231202225, 266.4088700535537, 265.26609934204174, 253.2395018959955, 226.08326709916673, 225.7598634160377, 225.39811105345558, 218.80741692754458, 213.79119620844833, 211.75058398581473, 210.3225609250762, 3985.6890534080912, 1591.3497897372554, 1179.5828359552413, 510.96942809056145, 433.2332824214392, 359.52553618873026, 552.8839947100294, 3652.62983453385, 13410.433209519633, 489.49144325136183, 383.6988814595218, 2152.051155477366, 898.985013722862, 639.6511939107627, 420.61047996414834, 9482.639031372355, 4367.347453290889, 10868.600289935901, 22243.946647397504, 22215.95395072388, 4248.723319745037, 2470.6778759895733, 4718.4661790875125, 27518.0937873511, 14456.75904596305, 4001.2318993468452, 4849.311683183144, 17522.31715252697, 1974.6433216448643, 3546.979749108294, 2077.122323957283, 2600.918410203766, 2049.9299327642916, 5920.040121149557, 2524.352793811297, 4703.871253313327, 2516.1354651086986, 2500.0550743398544, 2500.055074625568, 3620.281004852046, 6353.8108501590195, 9275.359843636306, 3697.4032117871793, 10465.66332670154, 5519.51777721252, 4636.446033364274, 6789.123125079888, 7801.619865740991, 8822.748723824328, 14540.594675532913, 3921.4244302149446, 14476.869412561759, 1135.483140755206, 829.5835408186612, 790.1747456196207, 631.1839498081075, 484.82746037836057, 431.7022606176494, 412.832520145562, 1318.465235666471, 390.8585451309475, 378.6760506568181, 372.7423641479578, 646.7892287992486, 278.6807784311345, 260.5114335512849, 233.7720487323024, 232.40752974172102, 230.79399079198285, 224.0074788562353, 220.40296803484873, 217.94484526837599, 221.54492499296444, 202.72035788096537, 436.2698101656394, 198.55180479426505, 193.55334508917676, 190.60507616024861, 1874.8599940059723, 186.36814888128737, 174.01570328498454, 169.7087665489332, 3259.479038191799, 991.6196332009657, 684.2792942075031, 899.6570176758742, 1819.885246422093, 1088.7587846327547, 744.4836001115281, 1798.2866142910605, 881.1007519787804, 1356.43787620722, 354.91274640487046, 501.06384909734044, 387.6143686336533, 338.7684217397227, 845.1687083660174, 880.3700452624365, 920.9388181733469, 483.20216208190095, 571.9759719432528, 1982.892355702645, 868.0400745479528, 1684.305135056958, 2493.781238668167, 7185.668566850646, 1571.3857858267968, 1298.3267266106745, 1386.9816340145258, 3800.738971214441, 2579.288299171183, 4886.210634029869, 14540.594675532913, 14476.869412561759, 3259.6265138570616, 4263.980250346081, 3191.590665334722, 9637.321635036957, 4562.082592813567, 5441.632474243294, 3665.076075089927, 7366.262872531478, 12737.8523553773, 2117.749945057967, 2850.4633457156906, 2801.72049279753, 1440.357024978754, 1336.6619226463079, 692.2795346656096, 699.6764329290174, 483.5629693131299, 387.86009563787815, 388.1852888678096, 378.93710488162486, 366.3076901481899, 341.20770466565574, 281.94323309813586, 274.5677281111147, 243.9312215926928, 232.71215546043788, 228.67283410670274, 225.19596671412563, 222.10442141892673, 221.02722223249972, 213.87693044764018, 214.1314868144188, 208.61137803342842, 182.37538915488298, 163.98440320132354, 162.2968157655035, 161.22294128951143, 147.1150636549846, 145.87675402385057, 145.3380362947566, 140.5397910604005, 138.68482358333557, 1340.3763880154547, 3146.270019212137, 157.59398592332516, 876.3661151676743, 225.64986452494196, 878.5644592305019, 896.4873078669289, 620.3088525673492, 287.58512249031736, 462.90570545494995, 790.3211500748434, 371.93290869479534, 330.5159609042447, 360.6958749596214, 418.75491945562635, 653.5616577367391, 1702.186145126529, 329.40454831678545, 27518.0937873511, 904.0828720168515, 22215.95395072388, 22243.946647397504, 17522.31715252697, 5519.51777721252, 14456.75904596305, 6353.8108501590195, 4636.446033364274, 10465.66332670154, 6789.123125079888, 10868.600289935901, 13410.433209519633, 9482.639031372355, 9275.359843636306, 3921.4244302149446, 4703.871253313327, 3697.4032117871793, 14540.594675532913, 5920.040121149557, 7801.619865740991, 8822.748723824328, 4849.311683183144, 2976.9380713969813, 7935.793689190568], \"Category\": [\"Default\", \"Default\", \"Default\", \"Default\", \"Default\", \"Default\", \"Default\", \"Default\", \"Default\", \"Default\", \"Default\", \"Default\", \"Default\", \"Default\", \"Default\", \"Default\", \"Default\", \"Default\", \"Default\", \"Default\", \"Default\", \"Default\", \"Default\", \"Default\", \"Default\", \"Default\", \"Default\", \"Default\", \"Default\", \"Default\", \"Topic1\", \"Topic1\", \"Topic1\", \"Topic1\", \"Topic1\", \"Topic1\", \"Topic1\", \"Topic1\", \"Topic1\", \"Topic1\", \"Topic1\", \"Topic1\", \"Topic1\", \"Topic1\", \"Topic1\", \"Topic1\", \"Topic1\", \"Topic1\", \"Topic1\", \"Topic1\", \"Topic1\", \"Topic1\", \"Topic1\", \"Topic1\", \"Topic1\", \"Topic1\", \"Topic1\", \"Topic1\", \"Topic1\", \"Topic1\", \"Topic1\", \"Topic1\", \"Topic1\", \"Topic1\", \"Topic1\", \"Topic1\", \"Topic1\", \"Topic1\", \"Topic1\", \"Topic1\", \"Topic1\", \"Topic1\", \"Topic1\", \"Topic1\", \"Topic1\", \"Topic1\", \"Topic1\", \"Topic1\", \"Topic1\", \"Topic1\", \"Topic1\", \"Topic1\", \"Topic1\", \"Topic1\", \"Topic1\", \"Topic1\", \"Topic1\", \"Topic1\", \"Topic1\", \"Topic1\", \"Topic1\", \"Topic1\", \"Topic1\", \"Topic1\", \"Topic1\", \"Topic1\", \"Topic1\", \"Topic1\", \"Topic1\", \"Topic1\", \"Topic1\", \"Topic1\", \"Topic1\", \"Topic1\", \"Topic1\", \"Topic1\", \"Topic1\", \"Topic1\", \"Topic1\", \"Topic1\", \"Topic1\", \"Topic1\", \"Topic1\", \"Topic1\", \"Topic1\", \"Topic1\", \"Topic1\", \"Topic1\", \"Topic1\", \"Topic1\", \"Topic1\", \"Topic1\", \"Topic1\", \"Topic1\", \"Topic1\", \"Topic1\", \"Topic1\", \"Topic2\", \"Topic2\", \"Topic2\", \"Topic2\", \"Topic2\", \"Topic2\", \"Topic2\", \"Topic2\", \"Topic2\", \"Topic2\", \"Topic2\", \"Topic2\", \"Topic2\", \"Topic2\", \"Topic2\", \"Topic2\", \"Topic2\", \"Topic2\", \"Topic2\", \"Topic2\", \"Topic2\", \"Topic2\", \"Topic2\", \"Topic2\", \"Topic2\", \"Topic2\", \"Topic2\", \"Topic2\", \"Topic2\", \"Topic2\", \"Topic2\", \"Topic2\", \"Topic2\", \"Topic2\", \"Topic2\", \"Topic2\", \"Topic2\", \"Topic2\", \"Topic2\", \"Topic2\", \"Topic2\", \"Topic2\", \"Topic2\", \"Topic2\", \"Topic2\", \"Topic2\", \"Topic2\", \"Topic2\", \"Topic2\", \"Topic2\", \"Topic2\", \"Topic2\", \"Topic2\", \"Topic2\", \"Topic2\", \"Topic2\", \"Topic2\", \"Topic2\", \"Topic2\", \"Topic2\", \"Topic2\", \"Topic2\", \"Topic2\", \"Topic2\", \"Topic2\", \"Topic2\", \"Topic2\", \"Topic2\", \"Topic2\", \"Topic2\", \"Topic2\", \"Topic2\", \"Topic2\", \"Topic2\", \"Topic2\", \"Topic2\", \"Topic2\", \"Topic2\", \"Topic2\", \"Topic2\", \"Topic2\", \"Topic2\", \"Topic2\", \"Topic2\", \"Topic2\", \"Topic2\", \"Topic2\", \"Topic2\", \"Topic2\", \"Topic2\", \"Topic2\", \"Topic2\", \"Topic3\", \"Topic3\", \"Topic3\", \"Topic3\", \"Topic3\", \"Topic3\", \"Topic3\", \"Topic3\", \"Topic3\", \"Topic3\", \"Topic3\", \"Topic3\", \"Topic3\", \"Topic3\", \"Topic3\", \"Topic3\", \"Topic3\", \"Topic3\", \"Topic3\", \"Topic3\", \"Topic3\", \"Topic3\", \"Topic3\", \"Topic3\", \"Topic3\", \"Topic3\", \"Topic3\", \"Topic3\", \"Topic3\", \"Topic3\", \"Topic3\", \"Topic3\", \"Topic3\", \"Topic3\", \"Topic3\", \"Topic3\", \"Topic3\", \"Topic3\", \"Topic3\", \"Topic3\", \"Topic3\", \"Topic3\", \"Topic3\", \"Topic3\", \"Topic3\", \"Topic3\", \"Topic3\", \"Topic3\", \"Topic3\", \"Topic3\", \"Topic3\", \"Topic3\", \"Topic3\", \"Topic3\", \"Topic3\", \"Topic3\", \"Topic3\", \"Topic3\", \"Topic3\", \"Topic3\", \"Topic3\", \"Topic3\", \"Topic3\", \"Topic3\", \"Topic3\", \"Topic3\", \"Topic3\", \"Topic3\", \"Topic3\", \"Topic3\", \"Topic3\", \"Topic3\", \"Topic3\", \"Topic3\", \"Topic3\", \"Topic3\", \"Topic3\", \"Topic3\", \"Topic3\", \"Topic3\", \"Topic3\", \"Topic3\", \"Topic4\", \"Topic4\", \"Topic4\", \"Topic4\", \"Topic4\", \"Topic4\", \"Topic4\", \"Topic4\", \"Topic4\", \"Topic4\", \"Topic4\", \"Topic4\", \"Topic4\", \"Topic4\", \"Topic4\", \"Topic4\", \"Topic4\", \"Topic4\", \"Topic4\", \"Topic4\", \"Topic4\", \"Topic4\", \"Topic4\", \"Topic4\", \"Topic4\", \"Topic4\", \"Topic4\", \"Topic4\", \"Topic4\", \"Topic4\", \"Topic4\", \"Topic4\", \"Topic4\", \"Topic4\", \"Topic4\", \"Topic4\", \"Topic4\", \"Topic4\", \"Topic4\", \"Topic4\", \"Topic4\", \"Topic4\", \"Topic4\", \"Topic4\", \"Topic4\", \"Topic4\", \"Topic4\", \"Topic4\", \"Topic4\", \"Topic4\", \"Topic4\", \"Topic4\", \"Topic4\", \"Topic4\", \"Topic4\", \"Topic4\", \"Topic4\", \"Topic4\", \"Topic4\", \"Topic4\", \"Topic4\", \"Topic4\", \"Topic4\", \"Topic4\", \"Topic4\", \"Topic4\", \"Topic4\", \"Topic4\", \"Topic4\", \"Topic4\", \"Topic4\", \"Topic4\", \"Topic4\", \"Topic4\", \"Topic5\", \"Topic5\", \"Topic5\", \"Topic5\", \"Topic5\", \"Topic5\", \"Topic5\", \"Topic5\", \"Topic5\", \"Topic5\", \"Topic5\", \"Topic5\", \"Topic5\", \"Topic5\", \"Topic5\", \"Topic5\", \"Topic5\", \"Topic5\", \"Topic5\", \"Topic5\", \"Topic5\", \"Topic5\", \"Topic5\", \"Topic5\", \"Topic5\", \"Topic5\", \"Topic5\", \"Topic5\", \"Topic5\", \"Topic5\", \"Topic5\", \"Topic5\", \"Topic5\", \"Topic5\", \"Topic5\", \"Topic5\", \"Topic5\", \"Topic5\", \"Topic5\", \"Topic5\", \"Topic5\", \"Topic5\", \"Topic5\", \"Topic5\", \"Topic5\", \"Topic5\", \"Topic5\", \"Topic5\", \"Topic5\", \"Topic5\", \"Topic5\", \"Topic5\", \"Topic5\", \"Topic5\", \"Topic5\", \"Topic5\", \"Topic5\", \"Topic5\", \"Topic5\", \"Topic5\", \"Topic5\", \"Topic5\", \"Topic5\", \"Topic5\", \"Topic5\", \"Topic5\", \"Topic5\", \"Topic5\", \"Topic5\", \"Topic5\", \"Topic5\", \"Topic5\", \"Topic5\"], \"logprob\": [30.0, 29.0, 28.0, 27.0, 26.0, 25.0, 24.0, 23.0, 22.0, 21.0, 20.0, 19.0, 18.0, 17.0, 16.0, 15.0, 14.0, 13.0, 12.0, 11.0, 10.0, 9.0, 8.0, 7.0, 6.0, 5.0, 4.0, 3.0, 2.0, 1.0, -6.7707, -7.1629, -7.4409, -7.6089, -7.9478, -7.9607, -8.0192, -8.0622, -8.0212, -8.096, -8.1811, -8.1882, -8.2558, -8.2647, -8.3036, -8.3133, -8.3007, -7.4393, -8.3649, -7.9485, -8.4221, -8.4347, -8.4173, -8.4322, -8.4863, -8.5072, -8.5297, -8.5293, -8.5711, -8.5664, -7.0963, -7.5941, -7.3045, -5.5295, -7.4247, -7.827, -8.1033, -7.5003, -7.4273, -6.7985, -7.3608, -6.9011, -5.4434, -7.035, -6.8962, -6.85, -7.2513, -7.0298, -7.2962, -7.6439, -5.61, -6.8217, -4.2921, -6.4337, -7.3135, -5.9097, -6.4116, -6.7733, -5.4866, -5.6823, -5.961, -6.4738, -4.8559, -5.9349, -6.4439, -4.5516, -4.9302, -6.308, -6.218, -6.4111, -5.5839, -5.3176, -4.3992, -5.2598, -4.6722, -4.3806, -5.1339, -5.5156, -5.7676, -4.9601, -5.2885, -5.8892, -5.9588, -5.238, -5.014, -5.3194, -5.3496, -5.4221, -5.1575, -4.4741, -5.3779, -5.0237, -5.6593, -5.5678, -5.6102, -5.5364, -5.5838, -6.5402, -6.6475, -6.8686, -7.0881, -7.1635, -7.1964, -7.458, -7.5962, -7.6661, -7.6893, -7.7319, -7.8042, -7.8489, -7.7684, -7.6063, -7.3069, -7.9119, -7.9411, -7.9406, -7.9916, -8.0321, -8.0642, -8.1165, -8.1914, -5.9665, -8.2725, -8.3352, -8.3409, -8.3544, -8.1702, -5.5518, -6.77, -6.946, -6.9465, -7.3023, -7.5707, -6.5765, -6.4795, -6.8301, -7.3331, -6.0699, -6.4631, -6.7823, -6.6354, -7.0505, -5.6859, -5.4322, -6.2994, -6.3721, -6.486, -6.7683, -3.3789, -5.4672, -4.2935, -4.9763, -4.6104, -5.2444, -6.03, -6.1645, -5.8713, -6.4038, -5.5846, -5.9059, -6.2402, -5.5885, -5.7506, -6.0123, -5.303, -5.2452, -5.888, -5.3511, -5.7226, -5.1014, -5.3499, -5.3776, -4.8354, -5.3315, -5.1675, -5.5123, -5.7399, -5.1234, -5.6097, -5.3752, -5.2935, -5.0634, -5.448, -5.2858, -5.45, -5.3391, -5.5405, -5.4694, -5.5061, -5.8429, -6.6961, -6.7207, -7.0001, -7.0406, -7.0693, -7.1479, -7.163, -7.178, -7.217, -7.2311, -7.2597, -7.293, -7.3018, -7.3521, -7.355, -7.4295, -7.4388, -7.4499, -7.4923, -7.5187, -7.523, -7.5696, -7.6834, -7.6848, -7.6864, -7.7162, -7.7395, -7.7491, -7.7559, -4.8179, -5.7334, -6.0347, -6.8704, -7.0344, -7.2252, -6.8035, -4.9564, -3.7772, -6.9369, -7.1702, -5.5338, -6.3648, -6.686, -7.0833, -4.1578, -4.8837, -4.0574, -3.4092, -3.411, -4.9336, -5.4444, -4.8494, -3.239, -3.8252, -5.0059, -4.8316, -3.6718, -5.6625, -5.1452, -5.6395, -5.4465, -5.6572, -4.7355, -5.4846, -4.9555, -5.4883, -5.4949, -5.4949, -5.1965, -4.7524, -4.4559, -5.1917, -4.5809, -4.9905, -5.1701, -4.9739, -5.0846, -5.0474, -4.9557, -5.3985, -5.2819, -5.6845, -5.9986, -6.0473, -6.2722, -6.5364, -6.6527, -6.6974, -5.5363, -6.7523, -6.784, -6.7998, -6.2492, -7.0914, -7.159, -7.2676, -7.2735, -7.2805, -7.3105, -7.3267, -7.338, -7.3217, -7.4106, -6.6442, -7.4315, -7.4571, -7.4725, -5.1865, -7.4952, -7.564, -7.5892, -4.6493, -5.8315, -6.1993, -5.9284, -5.2365, -5.7699, -6.1466, -5.3201, -5.9993, -5.5953, -6.8699, -6.5478, -6.7957, -6.9212, -6.0722, -6.0442, -6.0061, -6.596, -6.4654, -5.4269, -6.1192, -5.6086, -5.3463, -4.6674, -5.7685, -5.9084, -5.8658, -5.2168, -5.4996, -5.1522, -4.6658, -4.7289, -5.5245, -5.4709, -5.5816, -5.2534, -5.5088, -5.4818, -5.6094, -5.4249, -5.3562, -5.7766, -5.8068, -5.8285, -5.0508, -5.1256, -5.7841, -5.7734, -6.1434, -6.3643, -6.3635, -6.3876, -6.4216, -6.4927, -6.684, -6.7106, -6.8292, -6.8765, -6.8941, -6.9094, -6.9233, -6.9282, -6.9612, -6.96, -6.9862, -7.1212, -7.2279, -7.2383, -7.245, -7.3371, -7.3455, -7.3493, -7.383, -7.3964, -5.1281, -4.2852, -7.269, -5.5707, -6.9143, -5.6088, -5.6088, -5.9619, -6.6947, -6.2491, -5.7554, -6.4735, -6.5825, -6.5133, -6.3883, -6.0178, -5.2593, -6.5977, -3.2948, -5.8613, -3.6128, -3.613, -3.8082, -4.7316, -4.1119, -4.6591, -4.905, -4.5065, -4.7608, -4.6487, -4.6216, -4.8119, -4.8881, -5.3058, -5.3252, -5.4407, -5.0322, -5.3065, -5.2363, -5.3199, -5.4698, -5.5779, -5.5793], \"loglift\": [30.0, 29.0, 28.0, 27.0, 26.0, 25.0, 24.0, 23.0, 22.0, 21.0, 20.0, 19.0, 18.0, 17.0, 16.0, 15.0, 14.0, 13.0, 12.0, 11.0, 10.0, 9.0, 8.0, 7.0, 6.0, 5.0, 4.0, 3.0, 2.0, 1.0, 1.4039, 1.4033, 1.4026, 1.4021, 1.4008, 1.4008, 1.4006, 1.4003, 1.4001, 1.4, 1.3997, 1.3997, 1.3993, 1.3991, 1.399, 1.3989, 1.3989, 1.3988, 1.3986, 1.3985, 1.3981, 1.3981, 1.3981, 1.3981, 1.3977, 1.3976, 1.3974, 1.3974, 1.3971, 1.3971, 1.3945, 1.3968, 1.3936, 1.3741, 1.391, 1.3932, 1.3957, 1.3825, 1.3753, 1.3542, 1.3692, 1.3545, 1.2906, 1.3531, 1.3443, 1.3387, 1.3558, 1.3411, 1.3491, 1.3711, 1.2163, 1.3066, 1.0794, 1.254, 1.3403, 1.1991, 1.2346, 1.2643, 1.098, 1.1161, 1.1539, 1.216, 0.934, 1.1233, 1.2098, 0.8657, 0.9345, 1.1813, 1.1599, 1.197, 1.022, 0.9448, 0.6833, 0.8704, 0.6892, 0.574, 0.7969, 0.8987, 0.9567, 0.6127, 0.7216, 0.9604, 0.9855, 0.6402, 0.4357, 0.6136, 0.6219, 0.6551, 0.4727, -0.011, 0.5383, -0.0735, 0.6754, 0.4796, 0.4304, 0.0193, -0.2301, 1.4085, 1.4084, 1.4081, 1.4077, 1.4076, 1.4075, 1.4069, 1.4065, 1.4063, 1.4062, 1.406, 1.4057, 1.4056, 1.4055, 1.4055, 1.4053, 1.4053, 1.4052, 1.4051, 1.4049, 1.4047, 1.4046, 1.4043, 1.4039, 1.4035, 1.4034, 1.403, 1.403, 1.4029, 1.4029, 1.399, 1.4026, 1.4012, 1.3993, 1.4005, 1.4026, 1.3895, 1.3843, 1.3863, 1.3958, 1.3634, 1.3665, 1.3737, 1.3637, 1.3784, 1.3034, 1.2898, 1.3227, 1.3249, 1.3299, 1.3488, 1.0841, 1.233, 1.0601, 1.1127, 1.0318, 1.1085, 1.2075, 1.2258, 1.1574, 1.2566, 1.0054, 1.0999, 1.1845, 0.9401, 0.9884, 1.0759, 0.7553, 0.7263, 1.0039, 0.7261, 0.9139, 0.5536, 0.6975, 0.6325, 0.2471, 0.5847, 0.4627, 0.6618, 0.8446, 0.2381, 0.7138, 0.4147, 0.2621, -0.1132, 0.4302, 0.1314, 0.4147, 0.0324, 0.3903, -0.1904, -0.5515, 1.4335, 1.4328, 1.4327, 1.4323, 1.4322, 1.4322, 1.432, 1.432, 1.432, 1.4319, 1.4318, 1.4317, 1.4317, 1.4317, 1.4315, 1.4315, 1.4313, 1.4313, 1.4313, 1.4311, 1.4311, 1.4311, 1.4309, 1.4306, 1.4305, 1.4305, 1.4305, 1.4303, 1.4303, 1.4303, 1.4265, 1.4291, 1.4273, 1.4282, 1.4291, 1.4248, 1.4162, 1.3753, 1.2538, 1.4046, 1.4148, 1.3269, 1.3687, 1.3879, 1.4098, 1.2198, 1.2692, 1.1838, 1.1158, 1.1153, 1.2468, 1.2782, 1.2262, 1.0733, 1.1307, 1.2346, 1.2167, 1.0918, 1.2842, 1.2158, 1.2566, 1.2247, 1.2521, 1.1132, 1.2165, 1.1232, 1.2161, 1.2159, 1.2159, 1.144, 1.0256, 0.9438, 1.1278, 0.698, 0.9283, 0.923, 0.7378, 0.4882, 0.4023, -0.0056, 0.8621, -0.3274, 1.8156, 1.8153, 1.8153, 1.815, 1.8146, 1.8144, 1.8143, 1.8143, 1.8142, 1.8142, 1.8141, 1.8136, 1.8134, 1.8132, 1.8129, 1.8129, 1.8128, 1.8127, 1.8127, 1.8126, 1.8126, 1.8124, 1.8124, 1.8123, 1.8122, 1.8121, 1.8121, 1.812, 1.8117, 1.8116, 1.7962, 1.804, 1.8072, 1.8044, 1.7918, 1.7722, 1.7755, 1.7202, 1.7544, 1.727, 1.7931, 1.7703, 1.7791, 1.7883, 1.7231, 1.7103, 1.7034, 1.7584, 1.7203, 1.5156, 1.6494, 1.4971, 1.367, 0.9875, 1.4067, 1.4576, 1.4341, 1.0751, 1.18, 0.8885, 0.2843, 0.2256, 0.921, 0.706, 0.8849, 0.1081, 0.6005, 0.4512, 0.7189, 0.2053, -0.2737, 1.1001, 0.7728, 0.7683, 2.2114, 2.2113, 2.2108, 2.2108, 2.2103, 2.2099, 2.2099, 2.2098, 2.2098, 2.2096, 2.2091, 2.209, 2.2087, 2.2086, 2.2085, 2.2084, 2.2084, 2.2083, 2.2083, 2.2082, 2.2081, 2.2076, 2.2071, 2.2071, 2.2071, 2.2066, 2.2065, 2.2065, 2.2063, 2.2063, 2.206, 2.1957, 2.2059, 2.1883, 2.2016, 2.1477, 2.1276, 2.1428, 2.1786, 2.1482, 2.107, 2.1426, 2.1517, 2.1335, 2.1092, 2.0346, 1.8359, 2.1398, 1.0174, 1.8666, 0.9135, 0.912, 0.9554, 1.1872, 0.844, 1.1189, 1.1882, 0.7725, 0.951, 0.5925, 0.4095, 0.5657, 0.5116, 0.9549, 0.7535, 0.8788, -0.0821, 0.5423, 0.3364, 0.1298, 0.5785, 0.9583, -0.0236]}, \"token.table\": {\"Topic\": [1, 2, 3, 4, 5, 1, 2, 3, 5, 1, 2, 3, 5, 5, 2, 4, 5, 1, 2, 3, 4, 5, 1, 2, 3, 4, 5, 3, 5, 1, 2, 1, 2, 3, 4, 5, 2, 3, 1, 2, 3, 4, 5, 1, 2, 3, 4, 5, 1, 2, 3, 4, 5, 4, 3, 5, 2, 3, 4, 1, 2, 3, 4, 5, 4, 1, 2, 3, 4, 5, 1, 1, 2, 3, 4, 5, 1, 2, 3, 4, 5, 5, 1, 2, 3, 4, 5, 3, 5, 4, 2, 3, 5, 2, 3, 4, 1, 2, 3, 5, 5, 5, 1, 3, 4, 5, 5, 1, 5, 5, 1, 2, 3, 4, 5, 2, 5, 2, 3, 5, 1, 2, 3, 4, 5, 1, 2, 3, 4, 5, 4, 3, 4, 1, 2, 3, 4, 5, 1, 2, 3, 5, 1, 1, 2, 3, 4, 1, 2, 3, 4, 2, 3, 4, 3, 4, 5, 1, 2, 3, 5, 1, 2, 3, 5, 1, 2, 3, 4, 3, 1, 2, 3, 1, 2, 3, 5, 3, 2, 3, 1, 2, 3, 4, 5, 2, 2, 3, 4, 1, 3, 4, 5, 4, 5, 3, 1, 2, 5, 1, 2, 3, 4, 5, 1, 2, 3, 4, 2, 1, 2, 3, 4, 5, 1, 1, 2, 3, 4, 5, 1, 2, 1, 2, 5, 2, 2, 1, 2, 3, 1, 3, 4, 4, 2, 1, 2, 3, 4, 5, 3, 4, 5, 4, 1, 5, 1, 2, 3, 5, 1, 2, 3, 4, 1, 2, 3, 4, 5, 1, 2, 3, 4, 5, 1, 2, 3, 4, 5, 1, 2, 3, 3, 5, 1, 3, 5, 3, 5, 2, 2, 1, 2, 3, 4, 5, 1, 2, 3, 3, 4, 1, 2, 3, 4, 5, 1, 3, 4, 5, 1, 2, 3, 4, 5, 3, 5, 5, 2, 4, 2, 3, 4, 5, 5, 3, 2, 1, 2, 3, 4, 5, 1, 2, 3, 5, 1, 2, 3, 4, 5, 3, 4, 1, 5, 3, 5, 3, 5, 1, 3, 5, 1, 2, 3, 4, 5, 3, 4, 5, 1, 1, 3, 4, 5, 1, 2, 3, 4, 5, 5, 1, 2, 3, 4, 5, 1, 2, 3, 5, 3, 1, 1, 3, 4, 5, 1, 3, 5, 1, 3, 4, 5, 2, 3, 4, 1, 2, 3, 4, 5, 1, 1, 2, 3, 4, 5, 1, 2, 3, 4, 5, 1, 2, 3, 4, 1, 3, 4, 5, 1, 2, 3, 4, 5, 5, 4, 1, 2, 3, 5, 5, 1, 5, 1, 5, 1, 2, 5, 5, 3, 3, 3, 5, 3, 5, 1, 2, 3, 3, 5, 1, 3, 5, 3, 5, 1, 3, 5, 1, 2, 5, 2, 3, 4, 5, 5, 1, 2, 3, 4, 5, 3, 1, 3, 4, 3, 3, 3, 5, 2, 3, 4, 2, 4, 5, 1, 2, 3, 4, 1, 2, 3, 4, 5, 1, 3, 4, 5, 1, 2, 3, 4, 5, 3, 5, 3, 4, 3, 4, 3, 4, 2, 1, 2, 3, 4, 5, 1, 2, 3, 4, 5, 5, 4, 4, 5, 4, 1, 2, 3, 4, 5, 4, 3, 1, 3, 3, 5, 2, 1, 2, 3, 4, 5, 3, 1, 2, 5, 3, 5, 1, 3, 5, 1, 2, 3, 4, 5, 4, 1, 3, 5, 3, 4, 1, 2, 3, 5, 2, 1, 2, 1, 2, 3, 4, 5, 3, 4, 1, 3, 4, 5, 1, 2, 3, 4, 5, 5, 2, 5, 3, 1, 2, 3, 5, 1, 2, 3, 4, 5, 3, 1, 2, 3, 4, 5, 3, 1, 3, 3, 5, 5, 1, 2, 3, 4, 5, 2, 1, 2, 3, 4, 5, 1, 2, 3, 4, 5, 2, 1, 2, 3, 4, 5, 1, 2, 4, 5, 1, 3, 4, 1, 3, 4, 5, 1, 3, 5, 3, 5, 1, 1, 2, 3, 4, 5, 1, 2, 1, 3, 4, 1, 2, 3, 4, 5, 1, 2, 3, 4, 5, 3, 4, 2, 3, 5, 1, 2, 3, 4, 5, 1, 2, 3, 4, 5, 1, 2, 3, 4, 5, 2, 1, 2, 3, 5, 2, 4, 5, 2, 3, 4, 3, 1, 2, 3, 4, 5, 3, 5, 3, 4, 2, 1, 2, 3, 4, 5, 5, 3, 1, 2, 4, 5, 5, 3, 5, 1, 2, 3, 1, 3, 5, 1, 3, 5, 1, 2, 3, 4, 5, 1, 2, 4, 5, 2, 4, 5, 1, 2, 3, 4, 1, 2, 3, 1, 2, 3, 4, 5, 2, 3, 4, 5, 1, 1, 3, 1, 1, 2, 3, 1, 1, 1, 5, 4, 1, 2, 3, 4, 5, 1, 5, 2, 3, 2, 5, 1, 2, 3, 5, 1, 2, 3, 4, 5, 1, 2, 5, 1, 1, 2, 3, 4, 5, 1, 3, 1, 2, 3, 4, 5, 1, 3, 1, 5, 3, 5, 3, 1, 2, 3, 4, 5, 2, 1, 3, 5, 1, 2, 3, 4, 5, 2, 2, 3, 4, 1, 3, 2, 1, 3, 4, 4, 1, 2, 3, 4, 5, 2, 1, 3, 5, 3, 2, 1, 3, 5, 1, 2, 3, 4, 5, 1, 2, 4, 1, 2, 3, 4, 5, 1, 2, 3, 5, 5, 5, 4, 1, 3, 5, 1, 2, 3, 4, 5, 1, 2, 3, 4, 5, 2, 3, 4, 1, 3, 4, 2, 3, 4, 5, 4, 4, 1, 2, 3, 4, 5, 3, 1, 3, 1, 1, 2, 3, 5, 5, 3, 3, 1, 2, 3, 4, 5, 3, 5, 3, 5], \"Freq\": [0.32484120400439065, 0.4733467220337557, 0.06852301855528184, 0.11529641006059366, 0.017773888772018496, 0.05496810875545081, 0.022650175467070183, 0.7482844553694283, 0.17401964078358798, 0.6241740519603712, 0.3698219312712381, 0.0001592687042511792, 0.00589294205729363, 0.9970692967987084, 0.9418006509283225, 0.027748026110539833, 0.03101249977060334, 0.3336299059031895, 0.008019949661134363, 0.01563890183921201, 0.6379869955432386, 0.004811969796680618, 0.16252590690349158, 0.6664041610497148, 0.050339882669223054, 0.11122716932628332, 0.00958854907985201, 0.697141311758232, 0.3028552800350868, 0.9893116707045938, 0.008754970537208796, 0.6572589765149177, 0.16570403097378403, 0.09295591981456176, 0.0540558881530332, 0.030311712983009272, 0.04377385716864035, 0.955208097501402, 0.5442031980821558, 0.36084632541296585, 0.05335684994673428, 0.019252471630264945, 0.022186181592971983, 0.010204360922121247, 0.009141406659400284, 0.732800668719832, 0.015519132235726062, 0.23257439268334673, 0.6814887670072037, 0.24673351236783012, 0.029175787593860202, 0.03637968576518371, 0.0061233134456249805, 0.9972208522867027, 0.9771511162418789, 0.021397469698727276, 0.9770541106622282, 0.021632194332005052, 0.9971411236064052, 0.997590277122652, 0.8994255401264011, 0.04703224034738525, 0.05284521387346657, 0.0005284521387346657, 0.9980083719497387, 0.03691721447880481, 0.7400223447796782, 0.14011760949910007, 0.06880026334686351, 0.01398379336318364, 0.997437924265135, 0.4819601828425447, 0.3896874640761088, 0.009337120351365538, 0.10106059674419171, 0.01785037714231647, 0.5829184392254857, 0.2785676486342007, 0.049481689458064006, 0.07328995245673338, 0.01568931616963005, 0.994715925101667, 0.11873391462479466, 0.7338937890383236, 0.07736508464240013, 0.020415786225077816, 0.050502208030455645, 0.7274338612879717, 0.2725235811833437, 0.9941631515672977, 0.998246521784269, 0.9980626897162977, 0.9970576561517195, 0.005934301336566423, 0.9935715952079782, 0.9981716760058104, 0.01697130054946321, 0.9639698712095103, 0.010182780329677926, 0.008485650274731605, 0.9939969705526507, 0.9924204658089966, 0.9399224818031517, 0.01661945449160779, 0.02585248476472323, 0.01661945449160779, 0.9950274676574601, 0.06452776680671238, 0.9329639617470498, 0.9962309099560807, 0.8124435688156163, 0.13933210962779893, 0.03041757322860399, 0.009812120396323868, 0.008830908356691482, 0.9944859509973996, 0.0029597796160636893, 0.9987104300583344, 0.9821228416727578, 0.016278279143747368, 0.03924478249677966, 0.4248734785910223, 0.08029872163348178, 0.43656341380282904, 0.018926561771496573, 0.017254595313805653, 0.0235093861150602, 0.599812869596169, 0.00021568244142257064, 0.3593269474100027, 0.9992965858289747, 0.02656682093856652, 0.9711648987542651, 0.37924688832684283, 0.06789267367237861, 0.3563515292586951, 0.07174634797097773, 0.12467769789585388, 0.602478064775263, 0.12311249694815345, 0.1769370427153413, 0.09724103019817917, 0.9969324790061915, 0.14286595933360505, 0.6675349911294748, 0.05707548251292907, 0.13223077625666174, 0.2937079523725237, 0.1775469294084709, 0.03966473954870094, 0.48872625515363666, 0.9980745821025724, 0.0196350396029864, 0.9802179926803367, 0.0379193191331369, 0.9559659928827671, 0.005987260915758457, 0.027195761634253402, 0.05895230316990334, 0.7255018398703004, 0.18834331815026426, 0.044648465867022244, 0.04171106679682341, 0.22676720821934981, 0.6867639026124869, 0.7776814184294903, 0.13300868635696983, 0.04493536701248981, 0.044336228785656615, 0.9983524442797345, 0.0563977214587609, 0.0005475506937743777, 0.9428822946794784, 0.6245866108043022, 0.369705842174352, 0.0001716368812322897, 0.00549238019943327, 0.9966341961563053, 0.0182434725203609, 0.9799350953793855, 0.2500064993754094, 0.3174225664952905, 0.21837765293225028, 0.10710963934934377, 0.10698362800893277, 0.9932295507700004, 0.9911043404281704, 0.002932261362213522, 0.005864522724427044, 0.9364364018012443, 0.0280580195296253, 0.026304393309023715, 0.008768131103007906, 0.9980246148094658, 0.9939897619074577, 0.9973204543740326, 0.8226692933482631, 0.17562602891704493, 0.0010270528006844735, 0.3612067659359534, 0.5197294584833931, 0.01916437281782452, 0.08582306087982283, 0.014164971213174643, 0.17500880899693924, 0.7163693914941379, 0.01283397932644221, 0.09567148225166011, 0.9949461354563318, 0.3962274900152923, 0.4905968038098861, 0.007623721856768494, 0.10055070989467635, 0.00494511688006605, 0.9993191103172738, 0.11083202523056386, 0.7431759831351763, 0.11469825866883936, 0.018901585698235697, 0.012457863301109892, 0.950631198105539, 0.04905392303391572, 0.9383160988732085, 0.03576541184045862, 0.025246173063853145, 0.9966030852497625, 0.9967167315890441, 0.03771703168495953, 0.9545310326424373, 0.005802620259224543, 0.9691033872317009, 0.0009700734606923932, 0.029587240551117992, 0.9975571389065043, 0.9908368089251064, 0.6309971318087604, 0.2306843765276561, 0.04061884370752749, 0.08021582971172095, 0.01762704538251193, 0.01239563030568052, 0.0034962034195509164, 0.9840223442663306, 0.9958236303088749, 0.06048748086282761, 0.937555953373828, 0.0011759205466419622, 0.00587960273320981, 0.7383397596974296, 0.25462138424641545, 0.9505645734924567, 0.016873927340102783, 0.0018748808155669757, 0.03187297386463859, 0.35464185699978384, 0.16320888228709776, 0.058902453757749565, 0.40863577294438763, 0.014725613439437391, 0.735475004035532, 0.04512981808079966, 0.066989573713687, 0.12093380938839285, 0.031379326634306016, 0.435453261361185, 0.14070721659148697, 0.1717912850579421, 0.2037733377245393, 0.048214843976857095, 0.9655487042569038, 0.004006426158742339, 0.028044983111196374, 0.8556356215207884, 0.144090010057427, 0.9954722301896949, 0.8046502792410082, 0.195285447063361, 0.09869405619805746, 0.9008995899104731, 0.9973575657727339, 0.99649706801612, 0.3771839034454392, 0.17170770211108163, 0.043796720204733575, 0.3953984272689031, 0.011665481549858943, 0.9873080161798812, 0.9913985850224278, 0.0038426301745055342, 0.09091290989608047, 0.9091290989608047, 0.7989467704582298, 0.1786086019017853, 0.0060988303088414485, 0.0008712614726916355, 0.014811445035757804, 0.015935070662842176, 0.0038463963668929394, 0.9758857068002658, 0.004395881562163359, 0.5857865543386742, 0.2283157376482414, 0.04230556315246826, 0.1401231880076462, 0.0035814233356586886, 0.7270000665208319, 0.27295699358444214, 0.9988357890308898, 0.9957646161988745, 0.9980368095775566, 0.04653270344841041, 0.005674719932732977, 0.939733620860581, 0.007944607905826167, 0.9995047942676504, 0.9984663512860558, 0.9974863784522161, 0.054727841695224246, 0.7980462886005087, 0.03430700524178236, 0.09066851385328195, 0.02123766991157956, 0.9934662739868346, 0.007822569086510509, 0.09552126588028927, 0.9026759625687335, 0.11550385420436474, 0.33493486651971827, 0.05946212084324927, 0.4764862869341789, 0.013418443199140323, 0.003733612121640749, 0.9958076901576112, 0.057485877377959904, 0.9409530455023963, 0.005222413691100689, 0.9937507195065882, 0.8982128492067484, 0.10129870725663277, 0.009672600955422538, 0.056423505573298144, 0.9334059921982749, 0.18383634888636594, 0.6853331152804135, 0.039295363065396605, 0.05949263009551304, 0.03201335522460633, 0.9978580034275434, 0.9955024766968522, 0.9924145950958967, 0.9947323893432239, 0.4525983142943903, 0.38838088142509275, 0.005768032892451872, 0.15330149643049865, 0.22791364960996974, 0.2180791137336192, 0.236991682726601, 0.21615347034524288, 0.10088995895528835, 0.9969397582217876, 0.6385971256016371, 0.22219125386012517, 0.02108384160716516, 0.10947379296028065, 0.008920086833800646, 0.08198238116555347, 0.20189833496831525, 0.478994961285454, 0.23706094134235214, 0.9980259236880757, 0.9909268109123602, 0.026412342055616933, 0.5282468411123387, 0.35049891754886253, 0.094584738442412, 0.9989934711846745, 0.8336870312905993, 0.16585932746565463, 0.009402490530283485, 0.013432129328976408, 0.9603972470218132, 0.016118555194771688, 0.9575048468219721, 0.0012244307504117292, 0.04040621476358706, 0.46537239271083475, 0.37560336293932417, 0.008524578408534917, 0.14126444219857862, 0.009220462360252053, 0.9976588019226574, 0.4531728321734772, 0.2701395228284718, 0.020214522116416257, 0.2554380521983509, 0.0012863786801355801, 0.8278914994337626, 0.06644682316496577, 0.017509635834011248, 0.07767094869958836, 0.01077516051323769, 0.0011831957218734722, 0.054427003206179714, 0.03312948021245722, 0.9110607058425735, 0.014766517863661214, 0.07610436129733086, 0.8996217036938217, 0.009087087916099208, 0.06912123271641123, 0.05875304780894955, 0.017280308179102807, 0.8467351007760375, 0.008064143816914643, 0.9981711547198044, 0.9981242396793083, 0.01793634951385141, 0.02011045248522734, 0.6031323993092055, 0.3589081655246429, 0.9966545283326322, 0.9940380129711981, 0.005584483218939315, 0.993666281396737, 0.0033569806803943818, 0.994637408547963, 0.993163987873195, 0.9958998362011051, 0.9997521274430141, 0.9967150784470278, 0.9964553392406936, 0.9947530142077475, 0.004398781490495409, 0.7361923609852365, 0.26369858631910564, 0.0300338710744332, 0.032258602265131955, 0.9366118312841761, 0.8039822883906014, 0.19559569105622093, 0.011841059992112653, 0.8037824294645994, 0.18410028987737054, 0.8040107649421034, 0.1955379616171601, 0.012551831716925045, 0.010269680495665946, 0.9767607226988944, 0.05918746137937862, 0.0022764408222837934, 0.9378936187809228, 0.8870154263191098, 0.014561128749424512, 0.09828761905861545, 0.0004044757985951253, 0.9976741374565498, 0.38580372440572214, 0.22591618373970151, 0.05293205271195905, 0.3336902085913707, 0.0013642281626793568, 0.9992372668017792, 0.97199376995892, 0.0129599169327856, 0.016199896165982, 0.9962992105265321, 0.9971373561566532, 0.08031346274306363, 0.9191429625039503, 0.919009080005895, 0.024664187678104535, 0.056834867258240884, 0.9976332253953542, 0.9983732755611595, 0.9961824419743704, 0.027232945774741717, 0.19063062042319204, 0.04185804628339931, 0.74033267402446, 0.13994066234427976, 0.0631781418595901, 0.6124829759459579, 0.0017250004603301052, 0.18263442373744987, 0.009568849458591449, 0.778573116525008, 0.013801225180660742, 0.1980015772585461, 0.42013960438642095, 0.43821012500519174, 0.013914300876453511, 0.12685505474377098, 0.0007228208247508318, 0.8350960647602489, 0.16487163132287797, 0.0015169152328760643, 0.9981302232324504, 0.9982337427248396, 0.995664750560113, 0.0015460987219228747, 0.9972336756402542, 0.998691969343528, 0.3740636462541175, 0.2748605601315522, 0.020403471613860955, 0.329504340430743, 0.001172613311141434, 0.4723332610607548, 0.5048128066527977, 0.003821123010828578, 0.012312507479336529, 0.006580822963093662, 0.9946892178773172, 0.9982146991983107, 0.9975403408903104, 0.9969465899357839, 0.9982932889615724, 0.07864417035875622, 0.4298796881761496, 0.08491063811642605, 0.3941608219574316, 0.012219612127456146, 0.9995745064476389, 0.9963099197509747, 0.9874583186155348, 0.9993113947910433, 0.008863289167979679, 0.9882567422297341, 0.9965944063010872, 0.8596186765868834, 0.004250277758155172, 0.06056645805371119, 0.04994076365832326, 0.02550166654893103, 0.9977093805257887, 0.8272728059868576, 0.16715808306298152, 0.005323505830031258, 0.6646404967963926, 0.3352318868520758, 0.9956106072327242, 0.8071592701860224, 0.19277334020120837, 0.4568137926965268, 0.5049396604889702, 0.012031466948110865, 0.0013368296609012071, 0.02482683655959385, 0.9968254981848442, 0.9931767404813002, 0.03129508203367863, 0.9666703117069623, 0.008768349489441865, 0.9908234923069309, 0.19489392896933289, 0.7050362522884266, 0.0585814292570261, 0.04138793420267925, 0.9977759687025288, 0.9467020821552588, 0.0525945601197366, 0.8917197698286501, 0.04667403753924064, 0.006550742110770616, 0.01514859113115705, 0.03971387404654686, 0.02254075144112721, 0.9777050937588927, 0.03949451486125476, 0.0018369541795932446, 0.9570531275680805, 0.0009184770897966223, 0.24262401030081193, 0.7222099589100449, 0.00646490309578966, 0.017789047080571548, 0.010943855567382496, 0.9964605000146783, 0.9795966905466619, 0.01964807115709637, 0.9959164952748206, 0.9965817330146408, 0.9921655224294361, 0.005176515769197058, 0.0017255052563990192, 0.23937778617329494, 0.5683019017840227, 0.014454328767459635, 0.16604850852374362, 0.011633971934784585, 0.9984652536025865, 0.8429459034824788, 0.017327787616931246, 0.07236899534130109, 0.049944799601743, 0.018347069241456612, 0.9982345899938675, 0.02860111283459305, 0.9703948997451213, 0.8045626605675718, 0.19529758328892804, 0.9990332203613237, 0.7488171969019803, 0.13404482766700174, 0.05283200048113098, 0.02183140515749214, 0.04235292600553475, 0.9980433969490389, 0.2779836593801467, 0.12484063921953588, 0.06358343115529157, 0.52921575321325, 0.004652446182094505, 0.26869157928869863, 0.6562987273590725, 0.014813012028167153, 0.05801763044365468, 0.0020573627816898826, 0.996515245637727, 0.813589128792179, 0.1405615185907425, 0.010720793790819343, 0.01846358930641109, 0.016676790341274533, 0.023066886270983973, 0.9548043281453723, 0.008238173668208563, 0.0131810778691337, 0.9886849626631341, 0.009837661320031185, 0.9965597423517908, 0.011677782525383942, 0.07952013814904303, 0.908642697451303, 0.0005560848821611401, 0.993606201163378, 0.8039822884824829, 0.1955956910785742, 0.8192476923257299, 0.18069435068685255, 0.9959470586322062, 0.7825614834626079, 0.1231521059632391, 0.056119947021222874, 0.026501086093355247, 0.012471099338049529, 0.9511900784234966, 0.04795916361799142, 0.9930371226500952, 0.9973329245784164, 0.9985133090798801, 0.44103750611179665, 0.4986113677470804, 0.012492441675580446, 0.035033151655432124, 0.012764016494614804, 0.16392682289524327, 0.29560574620453706, 0.231445862653325, 0.023850009068775147, 0.2855282775839278, 0.011115347075081418, 0.9881543549747381, 0.9972478599187125, 0.16218821704913694, 0.83695240307432, 0.15421726498555435, 0.007953899053696213, 0.498444340698296, 0.05597188222971409, 0.2833944773946577, 0.19409598126186192, 0.07548177049072408, 0.023106664435935943, 0.69859148811313, 0.008472443626509845, 0.3935509837437738, 0.38798506779569003, 0.01140333999119593, 0.199694203893443, 0.0074664726132830485, 0.9944068278435026, 0.1420559402037147, 0.8318164498595294, 0.01104879534917781, 0.014994793688169885, 0.9698011231255927, 0.013376567215525416, 0.015605995084779653, 0.9164057969073073, 0.0378104454750029, 0.04477552753618765, 0.9979078179170704, 0.7218387181259336, 0.25228195070845394, 0.01897093189789371, 0.0019914237903866324, 0.004821341808304479, 0.8609149720182943, 0.13875923666647802, 0.002292159523072037, 0.997089392536336, 0.9956774393158683, 0.17336526139019665, 0.06352768139983234, 0.03384184897000414, 0.7267091778821941, 0.0017811499457896915, 0.9953525080660915, 0.997250466962127, 0.9971520558594306, 0.9889709300271048, 0.008207227635079707, 0.9950620149657251, 0.9991600226900357, 0.8372159790218323, 0.16224369461205146, 0.9758982384641406, 0.0035104253182163332, 0.017552126591081664, 0.00572429839104328, 0.8481120496169724, 0.14631306687506623, 0.04026732264016003, 0.8123402509459653, 0.14729362755216432, 0.37694753463179365, 0.60905808551344, 0.0025996381698744388, 0.0003713768814106341, 0.01076992956090839, 0.9062717397565972, 0.0511738140846166, 0.04291997310322682, 0.9975270173610536, 0.9872320930461497, 0.009029561826641613, 0.003009853942213871, 0.012417162982360626, 0.008278108654907084, 0.03518196178335511, 0.9437043866594076, 0.9881235099468717, 0.006500812565439946, 0.9952085481023609, 0.2501347723245257, 0.3774824895107849, 0.0168393675618194, 0.3522234381680558, 0.003508201575379042, 0.9932501232142388, 0.009076060717906361, 0.988282167060915, 0.0020169023817569695, 0.9916619179555044, 0.8683913415864472, 0.13116327555211962, 0.9949307825183136, 0.9482549368196983, 0.02568636397705729, 0.02354583364563585, 0.9901161125822154, 0.9894028418367554, 0.9966213972077754, 0.9981517080867808, 0.9966974292414809, 0.09791176518054932, 0.01129751136698646, 0.8291902613727771, 0.03248034518008607, 0.029185237698048355, 0.9380567808713351, 0.06142038446181361, 0.9756175293593374, 0.024073679295879755, 0.992378128499142, 0.006163839307448087, 0.6410622158457507, 0.22149963300190095, 0.06341690737398824, 0.07398639193631962, 0.48579617877166936, 0.312690074345113, 0.052991664620374405, 0.12372572361734824, 0.024807949659316018, 0.04435869969899473, 0.02772418731187171, 0.923215437485328, 0.9961161044299826, 0.0010001429807559932, 0.6254227439660811, 0.29904275124604196, 0.0033338099358533107, 0.07134353262726086, 0.9891772274423847, 0.009488510574986904, 0.06637576411991203, 0.8168282809042235, 0.0013546074310186128, 0.11310972049005417, 0.0020319111465279195, 0.9641506528644439, 0.03314267869221526, 0.9847784675624551, 0.013130379567499403, 0.8112518992222806, 0.18877947038774398, 0.9952270593747858, 0.19791447956643246, 0.1107302876030844, 0.015273143117666815, 0.6637453446552704, 0.012727619264722346, 0.9986506499661021, 0.9948837285439225, 0.9948450811328325, 0.004616450492495742, 0.06488910724758554, 0.04470138499278115, 0.0994966311129645, 0.6820566161801769, 0.10886950215983797, 0.9941373642238197, 0.07667140664841783, 0.008846700767125133, 0.9148963043335243, 0.9970209824277518, 0.9977273668217623, 0.9988130706528187, 0.015479302331206382, 0.020639069774941843, 0.9622966282566634, 0.9964465439559437, 0.29854786104607006, 0.3474290453436278, 0.03857887191197382, 0.29657507782329867, 0.01907023782012342, 0.9973046133909875, 0.045536711853701034, 0.024286246321973886, 0.9289489218155011, 0.9973106093420558, 0.9970648670115628, 0.25329536383002244, 0.03871326521419557, 0.7078997067738618, 0.028986228800190975, 0.9239360430060873, 0.006038797666706453, 0.026570709733508394, 0.015700873933436776, 0.0007732844421630651, 0.9936705081795387, 0.0046397066529783905, 0.08211301931995926, 0.06681245671375567, 0.5643357507921424, 0.0022950843909305386, 0.2845904644753868, 0.004166115666355939, 0.0010272613971836562, 0.710122975842013, 0.2846655471751154, 0.9977824590682276, 0.9979322839030632, 0.9982464864964835, 0.0067742364339518114, 0.9925510863967913, 0.0007526929371057568, 0.48872499833113003, 0.3099408853535213, 0.016705886354843297, 0.18117066817115776, 0.0035279511556811933, 0.18469837181670207, 0.7772723147286212, 0.01429213591438766, 0.02198790140675025, 0.0016490926055062686, 0.9895516763897553, 0.0005085054863256707, 0.009661604240187744, 0.018459423866743898, 0.08795372548272093, 0.8936532848429546, 0.8382325790900921, 0.00870685398488292, 0.14999534819411942, 0.0031661287217756074, 0.9978034377356139, 0.9979833949484685, 0.04032295835087557, 0.8581552674673519, 0.06306924254880537, 0.01964451817093938, 0.01861059616194257, 0.9987362988716797, 0.008344330786075714, 0.9901939199476514, 0.9924896354994669, 0.7541689321744593, 0.09342182718377312, 0.10134852767209326, 0.050957360282058065, 0.9961591585107131, 0.9951054164665647, 0.9981865508065383, 0.5047996103459021, 0.4597388507908413, 0.010917805178538978, 0.0013895388409049607, 0.023026643649282207, 0.9941886384442649, 0.003914128497812066, 0.9988718872147007, 0.9979416676963788], \"Term\": [\"2\", \"2\", \"2\", \"2\", \"2\", \"2023\", \"2023\", \"2023\", \"2023\", \"95\", \"95\", \"95\", \"95\", \"aarhu\", \"ablat\", \"ablat\", \"ablat\", \"activ\", \"activ\", \"activ\", \"activ\", \"activ\", \"acut\", \"acut\", \"acut\", \"acut\", \"acut\", \"ad\", \"ad\", \"adher\", \"adher\", \"adult\", \"adult\", \"adult\", \"adult\", \"adult\", \"affili\", \"affili\", \"age\", \"age\", \"age\", \"age\", \"age\", \"aid\", \"aid\", \"aid\", \"aid\", \"aid\", \"among\", \"among\", \"among\", \"among\", \"among\", \"amyloidosi\", \"angel\", \"angel\", \"angiographi\", \"angiographi\", \"antioxid\", \"anxieti\", \"aortic\", \"aortic\", \"aortic\", \"aortic\", \"apoptosi\", \"arteri\", \"arteri\", \"arteri\", \"arteri\", \"arteri\", \"ascvd\", \"assess\", \"assess\", \"assess\", \"assess\", \"assess\", \"associ\", \"associ\", \"associ\", \"associ\", \"associ\", \"astrazeneca\", \"atrial\", \"atrial\", \"atrial\", \"atrial\", \"atrial\", \"au\", \"au\", \"autophagi\", \"balloon\", \"baltimor\", \"bart\", \"beij\", \"beij\", \"bind\", \"bleed\", \"bleed\", \"bleed\", \"bleed\", \"boehring\", \"bordeaux\", \"bp\", \"bp\", \"bp\", \"bp\", \"brasil\", \"brazil\", \"brazil\", \"bristol\", \"burden\", \"burden\", \"burden\", \"burden\", \"burden\", \"bypass\", \"bypass\", \"cabg\", \"california\", \"california\", \"cardiac\", \"cardiac\", \"cardiac\", \"cardiac\", \"cardiac\", \"cardiolog\", \"cardiolog\", \"cardiolog\", \"cardiolog\", \"cardiolog\", \"cardiomyocyt\", \"cardiotox\", \"cardiotox\", \"cardiovascular\", \"cardiovascular\", \"cardiovascular\", \"cardiovascular\", \"cardiovascular\", \"care\", \"care\", \"care\", \"care\", \"caregiv\", \"case\", \"case\", \"case\", \"case\", \"caus\", \"caus\", \"caus\", \"caus\", \"ccta\", \"cell\", \"cell\", \"cellular\", \"cellular\", \"cellular\", \"center\", \"center\", \"center\", \"center\", \"centr\", \"centr\", \"centr\", \"centr\", \"chd\", \"chd\", \"chd\", \"chd\", \"chen\", \"china\", \"china\", \"china\", \"ci\", \"ci\", \"ci\", \"ci\", \"cincinnati\", \"cleveland\", \"cleveland\", \"clinic\", \"clinic\", \"clinic\", \"clinic\", \"clinic\", \"closur\", \"cmr\", \"cmr\", \"cmr\", \"cognit\", \"cognit\", \"cognit\", \"cognit\", \"collagen\", \"cologn\", \"columbia\", \"comorbid\", \"comorbid\", \"comorbid\", \"compar\", \"compar\", \"compar\", \"compar\", \"compar\", \"complic\", \"complic\", \"complic\", \"complic\", \"compress\", \"conclus\", \"conclus\", \"conclus\", \"conclus\", \"conclus\", \"copd\", \"coronari\", \"coronari\", \"coronari\", \"coronari\", \"coronari\", \"cost\", \"cost\", \"countri\", \"countri\", \"countri\", \"cpr\", \"cto\", \"curv\", \"curv\", \"curv\", \"cvd\", \"cvd\", \"cvd\", \"cytokin\", \"dapt\", \"data\", \"data\", \"data\", \"data\", \"data\", \"de\", \"de\", \"de\", \"delet\", \"denmark\", \"denmark\", \"depart\", \"depart\", \"depart\", \"depart\", \"depress\", \"depress\", \"depress\", \"depress\", \"develop\", \"develop\", \"develop\", \"develop\", \"develop\", \"diabet\", \"diabet\", \"diabet\", \"diabet\", \"diabet\", \"diseas\", \"diseas\", \"diseas\", \"diseas\", \"diseas\", \"dispar\", \"dispar\", \"dispar\", \"divis\", \"divis\", \"doac\", \"doi\", \"doi\", \"dr\", \"dr\", \"ecmo\", \"ecv\", \"effect\", \"effect\", \"effect\", \"effect\", \"effect\", \"emot\", \"endocard\", \"endocard\", \"endotheli\", \"endotheli\", \"estim\", \"estim\", \"estim\", \"estim\", \"estim\", \"express\", \"express\", \"express\", \"express\", \"factor\", \"factor\", \"factor\", \"factor\", \"factor\", \"fau\", \"fau\", \"fee\", \"ffr\", \"fibroblast\", \"fibrosi\", \"fibrosi\", \"fibrosi\", \"fibrosi\", \"fir\", \"fl\", \"fontan\", \"fraction\", \"fraction\", \"fraction\", \"fraction\", \"fraction\", \"frailti\", \"frailti\", \"franc\", \"franc\", \"function\", \"function\", \"function\", \"function\", \"function\", \"gene\", \"gene\", \"german\", \"german\", \"germani\", \"germani\", \"gr\", \"gr\", \"grant\", \"grant\", \"grant\", \"group\", \"group\", \"group\", \"group\", \"group\", \"guangzhou\", \"gut\", \"hallym\", \"hba1c\", \"health\", \"health\", \"health\", \"health\", \"heart\", \"heart\", \"heart\", \"heart\", \"heart\", \"heidelberg\", \"hf\", \"hf\", \"hf\", \"hf\", \"hf\", \"hospit\", \"hospit\", \"hospit\", \"hospit\", \"houston\", \"hrqol\", \"human\", \"human\", \"human\", \"human\", \"ihd\", \"im\", \"im\", \"immun\", \"immun\", \"immun\", \"immun\", \"implant\", \"implant\", \"implant\", \"includ\", \"includ\", \"includ\", \"includ\", \"includ\", \"incom\", \"increas\", \"increas\", \"increas\", \"increas\", \"increas\", \"individu\", \"individu\", \"individu\", \"individu\", \"individu\", \"induc\", \"induc\", \"induc\", \"induc\", \"inflamm\", \"inflamm\", \"inflamm\", \"inflamm\", \"inflammatori\", \"inflammatori\", \"inflammatori\", \"inflammatori\", \"inflammatori\", \"ingelheim\", \"inhibit\", \"institut\", \"institut\", \"institut\", \"institut\", \"instituto\", \"insur\", \"insur\", \"intak\", \"intak\", \"interview\", \"intraop\", \"investigacion\", \"ir\", \"ircc\", \"istanbul\", \"itali\", \"itali\", \"j\", \"j\", \"japan\", \"japan\", \"japan\", \"jid\", \"jid\", \"journal\", \"journal\", \"journal\", \"jt\", \"jt\", \"kingdom\", \"kingdom\", \"kingdom\", \"korea\", \"korea\", \"korea\", \"left\", \"left\", \"left\", \"left\", \"leipzig\", \"level\", \"level\", \"level\", \"level\", \"level\", \"li\", \"lifestyl\", \"lifestyl\", \"lifestyl\", \"lin\", \"liu\", \"london\", \"london\", \"lv\", \"lv\", \"lv\", \"lvef\", \"macrophag\", \"madrid\", \"mechan\", \"mechan\", \"mechan\", \"mechan\", \"medic\", \"medic\", \"medic\", \"medic\", \"medic\", \"medicin\", \"medicin\", \"medicin\", \"medicin\", \"method\", \"method\", \"method\", \"method\", \"method\", \"mh\", \"mh\", \"mice\", \"mice\", \"milan\", \"mirna\", \"mitochondri\", \"mitochondri\", \"mitral\", \"model\", \"model\", \"model\", \"model\", \"model\", \"mortal\", \"mortal\", \"mortal\", \"mortal\", \"mortal\", \"moscow\", \"mous\", \"mrna\", \"munich\", \"mutat\", \"myocardi\", \"myocardi\", \"myocardi\", \"myocardi\", \"myocardi\", \"nan\", \"nanj\", \"neighborhood\", \"nih\", \"novarti\", \"novarti\", \"nyha\", \"obes\", \"obes\", \"obes\", \"obes\", \"obes\", \"ohio\", \"older\", \"older\", \"older\", \"orcid\", \"orcid\", \"osa\", \"ot\", \"ot\", \"outcom\", \"outcom\", \"outcom\", \"outcom\", \"outcom\", \"overexpress\", \"overweight\", \"oxford\", \"oxford\", \"oxid\", \"oxid\", \"p\", \"p\", \"p\", \"p\", \"pacemak\", \"pandem\", \"pandem\", \"particip\", \"particip\", \"particip\", \"particip\", \"particip\", \"pathogen\", \"pathogen\", \"pathway\", \"pathway\", \"pathway\", \"pathway\", \"patient\", \"patient\", \"patient\", \"patient\", \"patient\", \"paulo\", \"pci\", \"pci\", \"peke\", \"perceiv\", \"percutan\", \"percutan\", \"percutan\", \"perform\", \"perform\", \"perform\", \"perform\", \"perform\", \"philadelphia\", \"physic\", \"physic\", \"physic\", \"physic\", \"physic\", \"physiol\", \"pittsburgh\", \"pittsburgh\", \"pl\", \"pl\", \"poland\", \"popul\", \"popul\", \"popul\", \"popul\", \"popul\", \"postop\", \"potenti\", \"potenti\", \"potenti\", \"potenti\", \"potenti\", \"predict\", \"predict\", \"predict\", \"predict\", \"predict\", \"preoper\", \"preval\", \"preval\", \"preval\", \"preval\", \"preval\", \"procedur\", \"procedur\", \"procedur\", \"procedur\", \"profession\", \"profession\", \"prolifer\", \"protein\", \"protein\", \"protein\", \"protein\", \"psoriasi\", \"pst\", \"pst\", \"pt\", \"pt\", \"qol\", \"qualiti\", \"qualiti\", \"qualiti\", \"qualiti\", \"qualiti\", \"questionnair\", \"questionnair\", \"quintil\", \"r01\", \"rat\", \"rate\", \"rate\", \"rate\", \"rate\", \"rate\", \"receiv\", \"receiv\", \"receiv\", \"receiv\", \"receiv\", \"regul\", \"regul\", \"regurgit\", \"republ\", \"republ\", \"research\", \"research\", \"research\", \"research\", \"research\", \"respons\", \"respons\", \"respons\", \"respons\", \"respons\", \"result\", \"result\", \"result\", \"result\", \"result\", \"resuscit\", \"retrospect\", \"retrospect\", \"retrospect\", \"retrospect\", \"revascular\", \"revascular\", \"revascular\", \"right\", \"right\", \"right\", \"ringgold\", \"risk\", \"risk\", \"risk\", \"risk\", \"risk\", \"rn\", \"rn\", \"rna\", \"rna\", \"roc\", \"role\", \"role\", \"role\", \"role\", \"role\", \"romania\", \"rome\", \"rural\", \"rv\", \"rv\", \"santiago\", \"sao\", \"sb\", \"sb\", \"sbp\", \"sbp\", \"sbp\", \"school\", \"school\", \"school\", \"scienc\", \"scienc\", \"scienc\", \"score\", \"score\", \"score\", \"score\", \"score\", \"search\", \"search\", \"search\", \"seoul\", \"septal\", \"septal\", \"septal\", \"sequenc\", \"sequenc\", \"sequenc\", \"sequenc\", \"sglt2i\", \"sglt2i\", \"shandong\", \"show\", \"show\", \"show\", \"show\", \"show\", \"shunt\", \"signal\", \"signal\", \"signal\", \"sle\", \"sleep\", \"sleep\", \"smd\", \"smoke\", \"smoke\", \"smoke\", \"smoker\", \"sociodemograph\", \"socioeconom\", \"spain\", \"stain\", \"state\", \"state\", \"state\", \"state\", \"state\", \"statin\", \"statin\", \"stenosi\", \"stenosi\", \"stent\", \"stent\", \"stroke\", \"stroke\", \"stroke\", \"stroke\", \"studi\", \"studi\", \"studi\", \"studi\", \"studi\", \"submit\", \"submit\", \"submit\", \"suicid\", \"surgeri\", \"surgeri\", \"surgeri\", \"surgeri\", \"surgeri\", \"survey\", \"survey\", \"surviv\", \"surviv\", \"surviv\", \"surviv\", \"surviv\", \"t2d\", \"t2d\", \"t2dm\", \"t2dm\", \"ta\", \"ta\", \"taipei\", \"target\", \"target\", \"target\", \"target\", \"target\", \"tavr\", \"telehealth\", \"texa\", \"texa\", \"therapeut\", \"therapeut\", \"therapeut\", \"therapeut\", \"therapeut\", \"thrombu\", \"tissu\", \"tissu\", \"tissu\", \"tobacco\", \"tokyo\", \"transcathet\", \"transcript\", \"transcript\", \"transcript\", \"transcriptom\", \"treatment\", \"treatment\", \"treatment\", \"treatment\", \"treatment\", \"tricuspid\", \"trust\", \"trust\", \"trust\", \"tx\", \"tyg\", \"uk\", \"uk\", \"uk\", \"undergo\", \"undergo\", \"undergo\", \"undergo\", \"undergo\", \"underw\", \"underw\", \"underw\", \"unit\", \"unit\", \"unit\", \"unit\", \"unit\", \"univers\", \"univers\", \"univers\", \"univers\", \"universidad\", \"universitario\", \"upregul\", \"usa\", \"usa\", \"usa\", \"use\", \"use\", \"use\", \"use\", \"use\", \"valu\", \"valu\", \"valu\", \"valu\", \"valu\", \"valv\", \"valv\", \"valv\", \"variant\", \"variant\", \"variant\", \"ventricular\", \"ventricular\", \"ventricular\", \"ventricular\", \"vitro\", \"vivo\", \"volum\", \"volum\", \"volum\", \"volum\", \"volum\", \"wang\", \"washington\", \"washington\", \"web\", \"women\", \"women\", \"women\", \"women\", \"wroclaw\", \"xue\", \"yang\", \"year\", \"year\", \"year\", \"year\", \"year\", \"zhang\", \"zhang\", \"zhejiang\", \"zurich\"]}, \"R\": 30, \"lambda.step\": 0.01, \"plot.opts\": {\"xlab\": \"PC1\", \"ylab\": \"PC2\"}, \"topic.order\": [1, 5, 2, 4, 3]};\n",
       "\n",
       "function LDAvis_load_lib(url, callback){\n",
       "  var s = document.createElement('script');\n",
       "  s.src = url;\n",
       "  s.async = true;\n",
       "  s.onreadystatechange = s.onload = callback;\n",
       "  s.onerror = function(){console.warn(\"failed to load library \" + url);};\n",
       "  document.getElementsByTagName(\"head\")[0].appendChild(s);\n",
       "}\n",
       "\n",
       "if(typeof(LDAvis) !== \"undefined\"){\n",
       "   // already loaded: just create the visualization\n",
       "   !function(LDAvis){\n",
       "       new LDAvis(\"#\" + \"ldavis_el13391329813359132166488760860\", ldavis_el13391329813359132166488760860_data);\n",
       "   }(LDAvis);\n",
       "}else if(typeof define === \"function\" && define.amd){\n",
       "   // require.js is available: use it to load d3/LDAvis\n",
       "   require.config({paths: {d3: \"https://d3js.org/d3.v5\"}});\n",
       "   require([\"d3\"], function(d3){\n",
       "      window.d3 = d3;\n",
       "      LDAvis_load_lib(\"https://cdn.jsdelivr.net/gh/bmabey/pyLDAvis@3.4.0/pyLDAvis/js/ldavis.v3.0.0.js\", function(){\n",
       "        new LDAvis(\"#\" + \"ldavis_el13391329813359132166488760860\", ldavis_el13391329813359132166488760860_data);\n",
       "      });\n",
       "    });\n",
       "}else{\n",
       "    // require.js not available: dynamically load d3 & LDAvis\n",
       "    LDAvis_load_lib(\"https://d3js.org/d3.v5.js\", function(){\n",
       "         LDAvis_load_lib(\"https://cdn.jsdelivr.net/gh/bmabey/pyLDAvis@3.4.0/pyLDAvis/js/ldavis.v3.0.0.js\", function(){\n",
       "                 new LDAvis(\"#\" + \"ldavis_el13391329813359132166488760860\", ldavis_el13391329813359132166488760860_data);\n",
       "            })\n",
       "         });\n",
       "}\n",
       "</script>"
      ],
      "text/plain": [
       "<IPython.core.display.HTML object>"
      ]
     },
     "execution_count": 58,
     "metadata": {},
     "output_type": "execute_result"
    }
   ],
   "source": [
    "from gensim import corpora\n",
    "from gensim.models import LdaModel\n",
    "import pyLDAvis.gensim_models as gensimvis\n",
    "import pyLDAvis\n",
    "\n",
    "# Load the preprocessed data\n",
    "input_file = \"final_data.csv\"\n",
    "df = pd.read_csv(input_file)\n",
    "\n",
    "# Tokenize the preprocessed text\n",
    "tokenized_text = [str(text).split() for text in df['Abstract_p']]\n",
    "\n",
    "# Create a dictionary representation of the documents\n",
    "dictionary = corpora.Dictionary(tokenized_text)\n",
    "\n",
    "# Convert the dictionary to a bag-of-words corpus\n",
    "corpus = [dictionary.doc2bow(text) for text in tokenized_text]\n",
    "\n",
    "# Build the LDA model\n",
    "num_topics = 5  # You can adjust the number of topics based on your dataset\n",
    "lda_model = LdaModel(corpus, num_topics=num_topics, id2word=dictionary, passes=15)\n",
    "\n",
    "# Visualize the topics\n",
    "pyLDAvis.enable_notebook()\n",
    "vis_data = gensimvis.prepare(lda_model, corpus, dictionary)\n",
    "pyLDAvis.display(vis_data)\n"
   ]
  },
  {
   "cell_type": "code",
   "execution_count": null,
   "metadata": {
    "colab": {
     "base_uri": "https://localhost:8080/",
     "height": 497
    },
    "executionInfo": {
     "elapsed": 15184,
     "status": "ok",
     "timestamp": 1701769179911,
     "user": {
      "displayName": "Sunshine",
      "userId": "17265841788323403260"
     },
     "user_tz": -330
    },
    "id": "28o4FJTdxSRj",
    "outputId": "874e89a4-ab97-498c-badc-7a12d4fcf602"
   },
   "outputs": [
    {
     "name": "stderr",
     "output_type": "stream",
     "text": [
      "/usr/local/lib/python3.10/dist-packages/ipykernel/ipkernel.py:283: DeprecationWarning: `should_run_async` will not call `transform_cell` automatically in the future. Please pass the result to `transformed_cell` argument and any exception that happen during thetransform in `preprocessing_exc_tuple` in IPython 7.17 and above.\n",
      "  and should_run_async(code)\n"
     ]
    },
    {
     "name": "stdout",
     "output_type": "stream",
     "text": [
      "Collecting pandas<2.0.0\n",
      "  Downloading pandas-1.5.3-cp310-cp310-manylinux_2_17_x86_64.manylinux2014_x86_64.whl (12.1 MB)\n",
      "\u001b[2K     \u001b[90m━━━━━━━━━━━━━━━━━━━━━━━━━━━━━━━━━━━━━━━━\u001b[0m \u001b[32m12.1/12.1 MB\u001b[0m \u001b[31m84.9 MB/s\u001b[0m eta \u001b[36m0:00:00\u001b[0m\n",
      "\u001b[?25hRequirement already satisfied: python-dateutil>=2.8.1 in /usr/local/lib/python3.10/dist-packages (from pandas<2.0.0) (2.8.2)\n",
      "Requirement already satisfied: pytz>=2020.1 in /usr/local/lib/python3.10/dist-packages (from pandas<2.0.0) (2023.3.post1)\n",
      "Requirement already satisfied: numpy>=1.21.0 in /usr/local/lib/python3.10/dist-packages (from pandas<2.0.0) (1.26.2)\n",
      "Requirement already satisfied: six>=1.5 in /usr/local/lib/python3.10/dist-packages (from python-dateutil>=2.8.1->pandas<2.0.0) (1.16.0)\n",
      "Installing collected packages: pandas\n",
      "  Attempting uninstall: pandas\n",
      "    Found existing installation: pandas 2.1.3\n",
      "    Uninstalling pandas-2.1.3:\n",
      "      Successfully uninstalled pandas-2.1.3\n",
      "\u001b[31mERROR: pip's dependency resolver does not currently take into account all the packages that are installed. This behaviour is the source of the following dependency conflicts.\n",
      "lida 0.0.10 requires fastapi, which is not installed.\n",
      "lida 0.0.10 requires kaleido, which is not installed.\n",
      "lida 0.0.10 requires python-multipart, which is not installed.\n",
      "lida 0.0.10 requires uvicorn, which is not installed.\n",
      "pyldavis 3.4.1 requires pandas>=2.0.0, but you have pandas 1.5.3 which is incompatible.\u001b[0m\u001b[31m\n",
      "\u001b[0mSuccessfully installed pandas-1.5.3\n"
     ]
    },
    {
     "data": {
      "application/vnd.colab-display-data+json": {
       "pip_warning": {
        "packages": [
         "pandas"
        ]
       }
      }
     },
     "metadata": {},
     "output_type": "display_data"
    }
   ],
   "source": [
    "!pip install \"pandas<2.0.0\""
   ]
  },
  {
   "cell_type": "code",
   "execution_count": null,
   "metadata": {
    "id": "cNSKjJ07xT1h"
   },
   "outputs": [],
   "source": []
  }
 ],
 "metadata": {
  "colab": {
   "authorship_tag": "ABX9TyMjjeZsFkochK3dPOCNArs4",
   "provenance": []
  },
  "kernelspec": {
   "display_name": "Python 3 (ipykernel)",
   "language": "python",
   "name": "python3"
  },
  "language_info": {
   "codemirror_mode": {
    "name": "ipython",
    "version": 3
   },
   "file_extension": ".py",
   "mimetype": "text/x-python",
   "name": "python",
   "nbconvert_exporter": "python",
   "pygments_lexer": "ipython3",
   "version": "3.9.13"
  }
 },
 "nbformat": 4,
 "nbformat_minor": 1
}
